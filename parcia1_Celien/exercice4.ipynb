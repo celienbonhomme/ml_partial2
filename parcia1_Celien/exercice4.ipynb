{
 "cells": [
  {
   "cell_type": "markdown",
   "metadata": {},
   "source": [
    "# Exercice 4"
   ]
  },
  {
   "cell_type": "markdown",
   "metadata": {},
   "source": [
    "## Load data with the parameters kept on exercice 2"
   ]
  },
  {
   "cell_type": "code",
   "execution_count": 27,
   "metadata": {},
   "outputs": [],
   "source": [
    "import pandas as pd\n",
    "df_wind = pd.read_csv('df_wind_reduced.csv')"
   ]
  },
  {
   "cell_type": "code",
   "execution_count": null,
   "metadata": {},
   "outputs": [],
   "source": [
    "df_wind.columns"
   ]
  },
  {
   "cell_type": "markdown",
   "metadata": {},
   "source": [
    "## K-fold cross validation"
   ]
  },
  {
   "cell_type": "markdown",
   "metadata": {},
   "source": [
    "### Preprocessing"
   ]
  },
  {
   "cell_type": "code",
   "execution_count": 29,
   "metadata": {},
   "outputs": [],
   "source": [
    "from sklearn.model_selection import train_test_split\n",
    "\n",
    "X = df_wind[[col for col in df_wind.columns if col != 'Wind_speed']]\n",
    "y = df_wind['Wind_speed']\n",
    "\n",
    "X_train, X_test, y_train, y_test = train_test_split(X, y, test_size=0.2, random_state=42)"
   ]
  },
  {
   "cell_type": "markdown",
   "metadata": {},
   "source": [
    "### Training"
   ]
  },
  {
   "cell_type": "code",
   "execution_count": 30,
   "metadata": {},
   "outputs": [],
   "source": [
    "from sklearn.neighbors import KNeighborsRegressor\n",
    "from sklearn.linear_model import LinearRegression, Ridge, Lasso\n",
    "from sklearn.model_selection import GridSearchCV\n",
    "from sklearn.pipeline import Pipeline\n",
    "from sklearn.preprocessing import MinMaxScaler\n",
    "\n",
    "pipe_knn = Pipeline(steps=[\n",
    "    (\"scaler\", MinMaxScaler()),\n",
    "    (\"model\", KNeighborsRegressor())])\n",
    "\n",
    "pipe_lr = Pipeline(steps=[\n",
    "    (\"scaler\", MinMaxScaler()),\n",
    "    (\"model\", LinearRegression())])\n",
    "\n",
    "pipe_ridge = Pipeline(steps=[\n",
    "    (\"scaler\", MinMaxScaler()),\n",
    "    (\"model\", Ridge())])\n",
    "\n",
    "pipe_lasso = Pipeline(steps=[\n",
    "    (\"scaler\", MinMaxScaler()),\n",
    "    (\"model\", Lasso())])\n",
    "\n",
    "\n",
    "grid_knn = {\n",
    "    'model__n_neighbors' : [k for k in range(1, 70)]\n",
    "}\n",
    "\n",
    "grid_lr = {}\n",
    "\n",
    "grid_ridge = {\n",
    "    'model__alpha' : [1e-9, 1e-6, 1e-3, 1, 10, 100, 1000],\n",
    "    'model__max_iter' : [10, 100, 1000, 10000, 100000, 1000000]\n",
    "}\n",
    "\n",
    "grid_lasso = {\n",
    "    'model__alpha' : [1e-9, 1e-6, 1e-3, 1, 10, 100, 1000],\n",
    "    'model__max_iter' : [10, 100, 1000, 10000, 100000, 1000000]\n",
    "}\n",
    "\n",
    "models_name = ['K-NN', 'Linear regression', 'Ridge', 'Lasso']\n",
    "grids = [grid_knn,grid_lr, grid_ridge, grid_lasso]\n",
    "\n",
    "pipelines = []\n",
    "models = [\n",
    "    GridSearchCV(pipe_knn, grid_knn, cv=10, n_jobs=-1, scoring='neg_mean_squared_error'),\n",
    "    GridSearchCV(pipe_lr, grid_lr, cv=10, n_jobs=-1),\n",
    "    GridSearchCV(pipe_ridge, grid_ridge, cv=10, n_jobs=-1, scoring='neg_mean_squared_error'),\n",
    "    GridSearchCV(pipe_lasso, grid_lasso, cv=10, n_jobs=-1, scoring='neg_mean_squared_error'),\n",
    "]\n"
   ]
  },
  {
   "cell_type": "code",
   "execution_count": null,
   "metadata": {},
   "outputs": [],
   "source": [
    "from sklearn.metrics import r2_score, mean_squared_error, mean_absolute_percentage_error\n",
    "import numpy as np\n",
    "\n",
    "import warnings\n",
    "warnings.filterwarnings('ignore')\n",
    "\n",
    "results = pd.DataFrame(columns=[\"Model\", \"MAPE\", \"r2\", \"MSE\"])\n",
    "\n",
    "for i, (model_name, model, grid) in enumerate(zip(models_name, models, grids)):\n",
    "    print(f\"Training {model_name}\")\n",
    "    model.fit(X_train, y_train)\n",
    "\n",
    "    y_pred = model.predict(X_test)\n",
    "    mape = mean_absolute_percentage_error(y_test, y_pred)\n",
    "    r2 = r2_score(y_test, y_pred)\n",
    "    mse = np.sqrt(mean_squared_error(y_test, y_pred))\n",
    "\n",
    "    results.loc[i] = [model_name, f\"{mape:.3f}\", f\"{r2:.3f}\", f\"{mse:.2f}\"]"
   ]
  },
  {
   "cell_type": "code",
   "execution_count": 32,
   "metadata": {},
   "outputs": [
    {
     "name": "stdout",
     "output_type": "stream",
     "text": [
      "Best parameters for K-NN: {'model__n_neighbors': 60}\n",
      "Best parameters for Linear regression: {}\n",
      "Best parameters for Ridge: {'model__alpha': 0.001, 'model__max_iter': 10}\n",
      "Best parameters for Lasso: {'model__alpha': 1e-06, 'model__max_iter': 10}\n"
     ]
    }
   ],
   "source": [
    "for model_name, model in zip(models_name, models):\n",
    "    print(f\"Best parameters for {model_name}: {model.best_params_}\")"
   ]
  },
  {
   "cell_type": "code",
   "execution_count": 33,
   "metadata": {},
   "outputs": [
    {
     "name": "stdout",
     "output_type": "stream",
     "text": [
      "            Model                MAPE    r2  MSE\n",
      "             K-NN 178501472658740.062 0.375 1.03\n",
      "Linear regression 223685969094966.375 0.145 1.21\n",
      "            Ridge 223686003346738.250 0.145 1.21\n",
      "            Lasso 223687068686517.375 0.145 1.21\n"
     ]
    }
   ],
   "source": [
    "print(results.to_string(index=False))"
   ]
  },
  {
   "cell_type": "markdown",
   "metadata": {},
   "source": [
    "We got a very high mape score and a very bad r2 so the training is not relevant here."
   ]
  },
  {
   "cell_type": "markdown",
   "metadata": {},
   "source": [
    "## TimeSeriesSplit cross validation"
   ]
  },
  {
   "cell_type": "markdown",
   "metadata": {},
   "source": [
    "### Preprocessing (T = 7)"
   ]
  },
  {
   "cell_type": "code",
   "execution_count": 34,
   "metadata": {},
   "outputs": [],
   "source": [
    "from sklearn.model_selection import TimeSeriesSplit, cross_val_score\n",
    "from sklearn.linear_model import LinearRegression\n",
    "\n",
    "nb_data = df_wind.shape[0]\n",
    "tscv_7 = TimeSeriesSplit(n_splits=nb_data//24//14, test_size=24)"
   ]
  },
  {
   "cell_type": "markdown",
   "metadata": {},
   "source": [
    "### Training"
   ]
  },
  {
   "cell_type": "code",
   "execution_count": 35,
   "metadata": {},
   "outputs": [],
   "source": [
    "from sklearn.neighbors import KNeighborsRegressor\n",
    "from sklearn.linear_model import LinearRegression, Ridge, Lasso\n",
    "from sklearn.model_selection import GridSearchCV\n",
    "from sklearn.pipeline import Pipeline\n",
    "from sklearn.preprocessing import MinMaxScaler\n",
    "\n",
    "pipe_knn_7 = Pipeline(steps=[\n",
    "    (\"scaler\", MinMaxScaler()),\n",
    "    (\"model\", KNeighborsRegressor())])\n",
    "\n",
    "pipe_lr_7 = Pipeline(steps=[\n",
    "    (\"scaler\", MinMaxScaler()),\n",
    "    (\"model\", LinearRegression())])\n",
    "\n",
    "pipe_ridge_7 = Pipeline(steps=[\n",
    "    (\"scaler\", MinMaxScaler()),\n",
    "    (\"model\", Ridge())])\n",
    "\n",
    "pipe_lasso_7 = Pipeline(steps=[\n",
    "    (\"scaler\", MinMaxScaler()),\n",
    "    (\"model\", Lasso())])\n",
    "\n",
    "\n",
    "grid_knn = {\n",
    "    'model__n_neighbors' : [k for k in range(1, 70, 5)]\n",
    "}\n",
    "\n",
    "grid_lr = {}\n",
    "\n",
    "grid_ridge = {\n",
    "    'model__alpha' : [1e-9, 1e-6, 1e-3, 1, 10, 100, 1000],\n",
    "    'model__max_iter' : [10, 100, 1000, 10000, 100000, 1000000]\n",
    "}\n",
    "\n",
    "grid_lasso = {\n",
    "    'model__alpha' : [1e-9, 1e-6, 1e-3, 1, 10, 100, 1000],\n",
    "    'model__max_iter' : [10, 100, 1000, 10000, 100000, 1000000]\n",
    "}\n",
    "\n",
    "models_name = ['K-NN', 'Linear regression', 'Ridge', 'Lasso']\n",
    "grids = [grid_knn,grid_lr, grid_ridge, grid_lasso]\n",
    "\n",
    "pipelines = []\n",
    "models = [\n",
    "    GridSearchCV(pipe_knn_7, grid_knn, cv=tscv_7, n_jobs=-1, scoring='neg_mean_squared_error'),\n",
    "    GridSearchCV(pipe_lr_7, grid_lr, cv=tscv_7, n_jobs=-1),\n",
    "    GridSearchCV(pipe_ridge_7, grid_ridge, cv=tscv_7, n_jobs=-1, scoring='neg_mean_squared_error'),\n",
    "    GridSearchCV(pipe_lasso_7, grid_lasso, cv=tscv_7, n_jobs=-1, scoring='neg_mean_squared_error'),\n",
    "]\n"
   ]
  },
  {
   "cell_type": "code",
   "execution_count": null,
   "metadata": {},
   "outputs": [],
   "source": [
    "from sklearn.metrics import r2_score, mean_squared_error, mean_absolute_percentage_error\n",
    "import numpy as np\n",
    "\n",
    "import warnings\n",
    "warnings.filterwarnings('ignore')\n",
    "\n",
    "results = pd.DataFrame(columns=[\"Model\", \"MAPE\", \"r2\", \"MSE\"])\n",
    "\n",
    "for i, (model_name, model, grid) in enumerate(zip(models_name, models, grids)):\n",
    "    print(f\"Training {model_name}\")\n",
    "    model.fit(X_train, y_train)\n",
    "\n",
    "    y_pred = model.predict(X_test)\n",
    "    mape = mean_absolute_percentage_error(y_test, y_pred)\n",
    "    r2 = r2_score(y_test, y_pred)\n",
    "    mse = np.sqrt(mean_squared_error(y_test, y_pred))\n",
    "\n",
    "    results.loc[i] = [model_name, f\"{mape:.3f}\", f\"{r2:.3f}\", f\"{mse:.2f}\"]"
   ]
  },
  {
   "cell_type": "code",
   "execution_count": 37,
   "metadata": {},
   "outputs": [
    {
     "name": "stdout",
     "output_type": "stream",
     "text": [
      "Best parameters for K-NN: {'model__n_neighbors': 56}\n",
      "Best parameters for Linear regression: {}\n",
      "Best parameters for Ridge: {'model__alpha': 1e-09, 'model__max_iter': 10}\n",
      "Best parameters for Lasso: {'model__alpha': 1e-09, 'model__max_iter': 10}\n"
     ]
    }
   ],
   "source": [
    "for model_name, model in zip(models_name, models):\n",
    "    print(f\"Best parameters for {model_name}: {model.best_params_}\")"
   ]
  },
  {
   "cell_type": "code",
   "execution_count": 38,
   "metadata": {},
   "outputs": [
    {
     "name": "stdout",
     "output_type": "stream",
     "text": [
      "            Model                MAPE    r2  MSE\n",
      "             K-NN 178742444994287.250 0.374 1.04\n",
      "Linear regression 223685969094966.375 0.145 1.21\n",
      "            Ridge 223685969095000.875 0.145 1.21\n",
      "            Lasso 223685942694162.000 0.145 1.21\n"
     ]
    }
   ],
   "source": [
    "print(results.to_string(index=False))"
   ]
  },
  {
   "cell_type": "markdown",
   "metadata": {},
   "source": [
    "We don't have better results here. The prediction of the field Wind_speed is hard and require a deeper analysis of the variables and the data."
   ]
  },
  {
   "cell_type": "markdown",
   "metadata": {},
   "source": [
    "### Preprocessing (T = 14)"
   ]
  },
  {
   "cell_type": "code",
   "execution_count": 39,
   "metadata": {},
   "outputs": [],
   "source": [
    "from sklearn.model_selection import TimeSeriesSplit, cross_val_score\n",
    "from sklearn.linear_model import LinearRegression\n",
    "\n",
    "nb_data = df_wind.shape[0]\n",
    "tscv_14 = TimeSeriesSplit(n_splits=nb_data//24//14, test_size=24)"
   ]
  },
  {
   "cell_type": "markdown",
   "metadata": {},
   "source": [
    "### Training"
   ]
  },
  {
   "cell_type": "code",
   "execution_count": 40,
   "metadata": {},
   "outputs": [],
   "source": [
    "from sklearn.neighbors import KNeighborsRegressor\n",
    "from sklearn.linear_model import LinearRegression, Ridge, Lasso\n",
    "from sklearn.model_selection import GridSearchCV\n",
    "from sklearn.pipeline import Pipeline\n",
    "from sklearn.preprocessing import MinMaxScaler\n",
    "\n",
    "pipe_knn_14 = Pipeline(steps=[\n",
    "    (\"scaler\", MinMaxScaler()),\n",
    "    (\"model\", KNeighborsRegressor())])\n",
    "\n",
    "pipe_lr_14 = Pipeline(steps=[\n",
    "    (\"scaler\", MinMaxScaler()),\n",
    "    (\"model\", LinearRegression())])\n",
    "\n",
    "pipe_ridge_14 = Pipeline(steps=[\n",
    "    (\"scaler\", MinMaxScaler()),\n",
    "    (\"model\", Ridge())])\n",
    "\n",
    "pipe_lasso_14 = Pipeline(steps=[\n",
    "    (\"scaler\", MinMaxScaler()),\n",
    "    (\"model\", Lasso())])\n",
    "\n",
    "\n",
    "grid_knn = {\n",
    "    'model__n_neighbors' : [k for k in range(1, 70, 5)]\n",
    "}\n",
    "\n",
    "grid_lr = {}\n",
    "\n",
    "grid_ridge = {\n",
    "    'model__alpha' : [1e-9, 1e-6, 1e-3, 1, 10, 100, 1000],\n",
    "    'model__max_iter' : [10, 100, 1000, 10000, 100000, 1000000]\n",
    "}\n",
    "\n",
    "grid_lasso = {\n",
    "    'model__alpha' : [1e-9, 1e-6, 1e-3, 1, 10, 100, 1000],\n",
    "    'model__max_iter' : [10, 100, 1000, 10000, 100000, 1000000]\n",
    "}\n",
    "\n",
    "models_name = ['K-NN', 'Linear regression', 'Ridge', 'Lasso']\n",
    "grids = [grid_knn,grid_lr, grid_ridge, grid_lasso]\n",
    "\n",
    "pipelines = []\n",
    "models = [\n",
    "    GridSearchCV(pipe_knn_14, grid_knn, cv=tscv_14, n_jobs=-1, scoring='neg_mean_squared_error'),\n",
    "    GridSearchCV(pipe_lr_14, grid_lr, cv=tscv_14, n_jobs=-1),\n",
    "    GridSearchCV(pipe_ridge_14, grid_ridge, cv=tscv_14, n_jobs=-1, scoring='neg_mean_squared_error'),\n",
    "    GridSearchCV(pipe_lasso_14, grid_lasso, cv=tscv_14, n_jobs=-1, scoring='neg_mean_squared_error'),\n",
    "]\n"
   ]
  },
  {
   "cell_type": "code",
   "execution_count": null,
   "metadata": {},
   "outputs": [],
   "source": [
    "from sklearn.metrics import r2_score, mean_squared_error, mean_absolute_percentage_error\n",
    "import numpy as np\n",
    "\n",
    "import warnings\n",
    "warnings.filterwarnings('ignore')\n",
    "\n",
    "results = pd.DataFrame(columns=[\"Model\", \"MAPE\", \"r2\", \"MSE\"])\n",
    "\n",
    "for i, (model_name, model, grid) in enumerate(zip(models_name, models, grids)):\n",
    "    print(f\"Training {model_name}\")\n",
    "    model.fit(X_train, y_train)\n",
    "\n",
    "    y_pred = model.predict(X_test)\n",
    "    mape = mean_absolute_percentage_error(y_test, y_pred)\n",
    "    r2 = r2_score(y_test, y_pred)\n",
    "    mse = np.sqrt(mean_squared_error(y_test, y_pred))\n",
    "\n",
    "    results.loc[i] = [model_name, f\"{mape:.3f}\", f\"{r2:.3f}\", f\"{mse:.2f}\"]"
   ]
  },
  {
   "cell_type": "code",
   "execution_count": 42,
   "metadata": {},
   "outputs": [
    {
     "name": "stdout",
     "output_type": "stream",
     "text": [
      "Best parameters for K-NN: {'model__n_neighbors': 56}\n",
      "Best parameters for Linear regression: {}\n",
      "Best parameters for Ridge: {'model__alpha': 1e-09, 'model__max_iter': 10}\n",
      "Best parameters for Lasso: {'model__alpha': 1e-09, 'model__max_iter': 10}\n"
     ]
    }
   ],
   "source": [
    "for model_name, model in zip(models_name, models):\n",
    "    print(f\"Best parameters for {model_name}: {model.best_params_}\")"
   ]
  },
  {
   "cell_type": "code",
   "execution_count": 43,
   "metadata": {},
   "outputs": [
    {
     "name": "stdout",
     "output_type": "stream",
     "text": [
      "            Model                MAPE    r2  MSE\n",
      "             K-NN 178742444994287.250 0.374 1.04\n",
      "Linear regression 223685969094966.375 0.145 1.21\n",
      "            Ridge 223685969095000.875 0.145 1.21\n",
      "            Lasso 223685942694162.000 0.145 1.21\n"
     ]
    }
   ],
   "source": [
    "print(results.to_string(index=False))"
   ]
  },
  {
   "cell_type": "markdown",
   "metadata": {},
   "source": [
    "### Preprocessing (T = 21)"
   ]
  },
  {
   "cell_type": "code",
   "execution_count": 44,
   "metadata": {},
   "outputs": [],
   "source": [
    "from sklearn.model_selection import TimeSeriesSplit, cross_val_score\n",
    "from sklearn.linear_model import LinearRegression\n",
    "\n",
    "nb_data = df_wind.shape[0]\n",
    "tscv_21 = TimeSeriesSplit(n_splits=nb_data//24//14, test_size=24)"
   ]
  },
  {
   "cell_type": "markdown",
   "metadata": {},
   "source": [
    "### Training"
   ]
  },
  {
   "cell_type": "code",
   "execution_count": 45,
   "metadata": {},
   "outputs": [],
   "source": [
    "from sklearn.neighbors import KNeighborsRegressor\n",
    "from sklearn.linear_model import LinearRegression, Ridge, Lasso\n",
    "from sklearn.model_selection import GridSearchCV\n",
    "from sklearn.pipeline import Pipeline\n",
    "from sklearn.preprocessing import MinMaxScaler\n",
    "\n",
    "pipe_knn_21 = Pipeline(steps=[\n",
    "    (\"scaler\", MinMaxScaler()),\n",
    "    (\"model\", KNeighborsRegressor())])\n",
    "\n",
    "pipe_lr_21 = Pipeline(steps=[\n",
    "    (\"scaler\", MinMaxScaler()),\n",
    "    (\"model\", LinearRegression())])\n",
    "\n",
    "pipe_ridge_21 = Pipeline(steps=[\n",
    "    (\"scaler\", MinMaxScaler()),\n",
    "    (\"model\", Ridge())])\n",
    "\n",
    "pipe_lasso_21 = Pipeline(steps=[\n",
    "    (\"scaler\", MinMaxScaler()),\n",
    "    (\"model\", Lasso())])\n",
    "\n",
    "\n",
    "grid_knn = {\n",
    "    'model__n_neighbors' : [k for k in range(1, 70, 5)]\n",
    "}\n",
    "\n",
    "grid_lr = {}\n",
    "\n",
    "grid_ridge = {\n",
    "    'model__alpha' : [1e-9, 1e-6, 1e-3, 1, 10, 100, 1000],\n",
    "    'model__max_iter' : [10, 100, 1000, 10000, 100000, 1000000]\n",
    "}\n",
    "\n",
    "grid_lasso = {\n",
    "    'model__alpha' : [1e-9, 1e-6, 1e-3, 1, 10, 100, 1000],\n",
    "    'model__max_iter' : [10, 100, 1000, 10000, 100000, 1000000]\n",
    "}\n",
    "\n",
    "models_name = ['K-NN', 'Linear regression', 'Ridge', 'Lasso']\n",
    "grids = [grid_knn,grid_lr, grid_ridge, grid_lasso]\n",
    "\n",
    "pipelines = []\n",
    "models = [\n",
    "    GridSearchCV(pipe_knn_21, grid_knn, cv=tscv_21, n_jobs=-1, scoring='neg_mean_squared_error'),\n",
    "    GridSearchCV(pipe_lr_21, grid_lr, cv=tscv_21, n_jobs=-1),\n",
    "    GridSearchCV(pipe_ridge_21, grid_ridge, cv=tscv_21, n_jobs=-1, scoring='neg_mean_squared_error'),\n",
    "    GridSearchCV(pipe_lasso_21, grid_lasso, cv=tscv_21, n_jobs=-1, scoring='neg_mean_squared_error'),\n",
    "]"
   ]
  },
  {
   "cell_type": "code",
   "execution_count": null,
   "metadata": {},
   "outputs": [],
   "source": [
    "from sklearn.metrics import r2_score, mean_squared_error, mean_absolute_percentage_error\n",
    "import numpy as np\n",
    "\n",
    "import warnings\n",
    "warnings.filterwarnings('ignore')\n",
    "\n",
    "results = pd.DataFrame(columns=[\"Model\", \"MAPE\", \"r2\", \"MSE\"])\n",
    "\n",
    "for i, (model_name, model, grid) in enumerate(zip(models_name, models, grids)):\n",
    "    print(f\"Training {model_name}\")\n",
    "    model.fit(X_train, y_train)\n",
    "\n",
    "    y_pred = model.predict(X_test)\n",
    "    mape = mean_absolute_percentage_error(y_test, y_pred)\n",
    "    r2 = r2_score(y_test, y_pred)\n",
    "    mse = np.sqrt(mean_squared_error(y_test, y_pred))\n",
    "\n",
    "    results.loc[i] = [model_name, f\"{mape:.3f}\", f\"{r2:.3f}\", f\"{mse:.2f}\"]"
   ]
  },
  {
   "cell_type": "code",
   "execution_count": 47,
   "metadata": {},
   "outputs": [
    {
     "name": "stdout",
     "output_type": "stream",
     "text": [
      "Best parameters for K-NN: {'model__n_neighbors': 56}\n",
      "Best parameters for Linear regression: {}\n",
      "Best parameters for Ridge: {'model__alpha': 1e-09, 'model__max_iter': 10}\n",
      "Best parameters for Lasso: {'model__alpha': 1e-09, 'model__max_iter': 10}\n"
     ]
    }
   ],
   "source": [
    "for model_name, model in zip(models_name, models):\n",
    "    print(f\"Best parameters for {model_name}: {model.best_params_}\")"
   ]
  },
  {
   "cell_type": "code",
   "execution_count": 48,
   "metadata": {},
   "outputs": [
    {
     "name": "stdout",
     "output_type": "stream",
     "text": [
      "            Model                MAPE    r2  MSE\n",
      "             K-NN 178742444994287.250 0.374 1.04\n",
      "Linear regression 223685969094966.375 0.145 1.21\n",
      "            Ridge 223685969095000.875 0.145 1.21\n",
      "            Lasso 223685942694162.000 0.145 1.21\n"
     ]
    }
   ],
   "source": [
    "print(results.to_string(index=False))"
   ]
  },
  {
   "cell_type": "markdown",
   "metadata": {},
   "source": [
    "Were are supposed to have better results with T = 7 because we predict with less time. Or we can imagine that as far as we are from the day of evaluation, the train set is less and less relevant."
   ]
  },
  {
   "cell_type": "markdown",
   "metadata": {},
   "source": [
    "We don't have better results here. The prediction of the field Wind_speed is hard and require a deeper analysis of the variables and the data."
   ]
  }
 ],
 "metadata": {
  "kernelspec": {
   "display_name": "ml_venv",
   "language": "python",
   "name": "python3"
  },
  "language_info": {
   "codemirror_mode": {
    "name": "ipython",
    "version": 3
   },
   "file_extension": ".py",
   "mimetype": "text/x-python",
   "name": "python",
   "nbconvert_exporter": "python",
   "pygments_lexer": "ipython3",
   "version": "3.9.18"
  }
 },
 "nbformat": 4,
 "nbformat_minor": 2
}
