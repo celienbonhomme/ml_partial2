{
 "cells": [
  {
   "cell_type": "markdown",
   "metadata": {},
   "source": [
    "# Exercice 1"
   ]
  },
  {
   "cell_type": "markdown",
   "metadata": {},
   "source": [
    "## Breast cancer"
   ]
  },
  {
   "cell_type": "markdown",
   "metadata": {},
   "source": [
    "In cancer detection, we want to minimize incorrect negative predictions (i.e. the sick patient is classified as negative) because this diagnosis could lead to serious health problems. Therefore, the most important metric in the application of cancer detection is the recall which objective is to limit the number of false negatives."
   ]
  },
  {
   "cell_type": "markdown",
   "metadata": {},
   "source": [
    "### Load data"
   ]
  },
  {
   "cell_type": "code",
   "execution_count": 1,
   "metadata": {},
   "outputs": [],
   "source": [
    "from sklearn.datasets import load_breast_cancer\n",
    "\n",
    "cancer = load_breast_cancer()"
   ]
  },
  {
   "cell_type": "code",
   "execution_count": 2,
   "metadata": {},
   "outputs": [
    {
     "data": {
      "text/plain": [
       "array(['malignant', 'benign'], dtype='<U9')"
      ]
     },
     "execution_count": 2,
     "metadata": {},
     "output_type": "execute_result"
    }
   ],
   "source": [
    "cancer['target_names']"
   ]
  },
  {
   "cell_type": "markdown",
   "metadata": {},
   "source": [
    "**Target**  \n",
    "'0' => malignant/sick  \n",
    "'1' => benign/safe"
   ]
  },
  {
   "cell_type": "markdown",
   "metadata": {},
   "source": [
    "### Preprocessing"
   ]
  },
  {
   "cell_type": "code",
   "execution_count": 3,
   "metadata": {},
   "outputs": [
    {
     "name": "stderr",
     "output_type": "stream",
     "text": [
      "/tmp/ipykernel_56481/2884326544.py:1: DeprecationWarning: \n",
      "Pyarrow will become a required dependency of pandas in the next major release of pandas (pandas 3.0),\n",
      "(to allow more performant data types, such as the Arrow string type, and better interoperability with other libraries)\n",
      "but was not found to be installed on your system.\n",
      "If this would cause problems for you,\n",
      "please provide us feedback at https://github.com/pandas-dev/pandas/issues/54466\n",
      "        \n",
      "  import pandas as pd\n"
     ]
    }
   ],
   "source": [
    "import pandas as pd\n",
    "from sklearn.model_selection import train_test_split\n",
    "df_cancer = pd.DataFrame(data=cancer['data'], columns=cancer['feature_names'])\n",
    "df_cancer['target'] = cancer['target']\n",
    "\n",
    "df_train, df_test = train_test_split(df_cancer, test_size=0.2, random_state=42)\n",
    "\n",
    "df_input_train = df_train.drop(columns=['target'])\n",
    "df_output_train = df_train['target']\n"
   ]
  },
  {
   "cell_type": "code",
   "execution_count": 4,
   "metadata": {},
   "outputs": [],
   "source": [
    "df_cancer = pd.DataFrame(data=cancer['data'], columns=cancer['feature_names'])\n",
    "df_cancer['target'] = cancer['target']\n",
    "\n",
    "df_train, df_test = train_test_split(df_cancer, test_size=0.2, random_state=42)\n",
    "\n",
    "df_input_train = df_train.drop(columns=['target'])\n",
    "df_output_train = df_train['target']\n",
    "df_input_test = df_test.drop(columns=['target'])\n",
    "df_output_test = df_test['target']\n"
   ]
  },
  {
   "cell_type": "markdown",
   "metadata": {},
   "source": [
    "### Training"
   ]
  },
  {
   "cell_type": "markdown",
   "metadata": {},
   "source": [
    "#### With hand"
   ]
  },
  {
   "cell_type": "markdown",
   "metadata": {},
   "source": [
    "##### K-NN"
   ]
  },
  {
   "cell_type": "code",
   "execution_count": 5,
   "metadata": {},
   "outputs": [
    {
     "name": "stdout",
     "output_type": "stream",
     "text": [
      "39\n"
     ]
    }
   ],
   "source": [
    "from sklearn.model_selection import cross_val_score\n",
    "from sklearn.neighbors import KNeighborsClassifier\n",
    "from sklearn.metrics import precision_score, recall_score, f1_score, roc_auc_score\n",
    "\n",
    "best_recall = 0\n",
    "\n",
    "for nb_neighbors in [k for k in range(1, 50)]:\n",
    "    knn = KNeighborsClassifier(n_neighbors=nb_neighbors)\n",
    "    knn.fit(df_input_train, df_output_train)\n",
    "    recalls = cross_val_score(knn, df_input_train, df_output_train, cv=10, scoring='recall')\n",
    "    recall = recalls.mean()\n",
    "    if recall > best_recall:\n",
    "        best_recall = recall\n",
    "        best_knn = knn\n",
    "        best_k = nb_neighbors\n",
    "\n",
    "print(best_k)\n",
    "\n",
    "y_pred = best_knn.predict(df_input_test)\n",
    "precision_knn = precision_score(df_output_test, y_pred)\n",
    "recall_knn = recall_score(df_output_test, y_pred)\n",
    "f1_knn = f1_score(df_output_test, y_pred)\n",
    "auc_knn = roc_auc_score(df_output_test, y_pred)"
   ]
  },
  {
   "cell_type": "markdown",
   "metadata": {},
   "source": [
    "##### Logistic regression"
   ]
  },
  {
   "cell_type": "code",
   "execution_count": null,
   "metadata": {},
   "outputs": [],
   "source": [
    "from sklearn.model_selection import cross_val_score\n",
    "from sklearn.linear_model import LogisticRegression\n",
    "import itertools\n",
    "from sklearn.metrics import precision_score, recall_score, f1_score, roc_auc_score\n",
    "\n",
    "best_recall = 0\n",
    "\n",
    "param_values = {\n",
    "    'penalty': ['l2'],\n",
    "    'C': [1e-9, 1e-6, 1e-3, 1, 100, 1000, 10000],\n",
    "    'max_iter': [10, 100, 1000, 10000, 100000]\n",
    "}\n",
    "\n",
    "param_combinations = itertools.product(param_values['C'], param_values['penalty'], param_values['max_iter'])\n",
    "\n",
    "for C, penalty, max_iter in param_combinations:\n",
    "    LogReg = LogisticRegression(C=C, penalty=penalty, max_iter=max_iter)\n",
    "    LogReg.fit(df_input_train, df_output_train)\n",
    "    recalls = cross_val_score(LogReg, df_input_train, df_output_train, cv=10, scoring='recall')\n",
    "    recall = recalls.mean()\n",
    "    if recall > best_recall:\n",
    "        best_recall = recall\n",
    "        best_LogReg = LogReg\n",
    "        best_C = C\n",
    "        best_penalty = penalty\n",
    "        best_max_iter = max_iter\n",
    "\n",
    "y_pred = best_LogReg.predict(df_input_test)\n",
    "precision_LogReg = precision_score(df_output_test, y_pred)\n",
    "recall_LogReg = recall_score(df_output_test, y_pred)\n",
    "f1_LogReg = f1_score(df_output_test, y_pred)\n",
    "auc_LogReg = roc_auc_score(df_output_test, y_pred)"
   ]
  },
  {
   "cell_type": "code",
   "execution_count": 7,
   "metadata": {},
   "outputs": [
    {
     "name": "stdout",
     "output_type": "stream",
     "text": [
      "1e-09 l2 100\n"
     ]
    }
   ],
   "source": [
    "print(best_C, best_penalty, best_max_iter)"
   ]
  },
  {
   "cell_type": "code",
   "execution_count": 8,
   "metadata": {},
   "outputs": [
    {
     "name": "stdout",
     "output_type": "stream",
     "text": [
      "              Model Precision Recall f1-score   AUC\n",
      "               K-NN     0.922  1.000    0.959 0.930\n",
      "Logistic regression     0.623  1.000    0.768 0.500\n"
     ]
    }
   ],
   "source": [
    "\n",
    "results = pd.DataFrame(columns=[\"Model\", \"Precision\", \"Recall\", \"f1-score\", \"AUC\"])\n",
    "results.loc[0] = [\"K-NN\", f\"{precision_knn:.3f}\", f\"{recall_knn:.3f}\", f\"{f1_knn:.3f}\", f\"{auc_knn:.3f}\"]\n",
    "results.loc[1] = [\"Logistic regression\", f\"{precision_LogReg:.3f}\", f\"{recall_LogReg:.3f}\", f\"{f1_LogReg:.3f}\", f\"{auc_LogReg:.3f}\"]\n",
    "\n",
    "print(results.to_string(index=False))\n"
   ]
  },
  {
   "cell_type": "markdown",
   "metadata": {},
   "source": [
    "#### With GridSearchCV"
   ]
  },
  {
   "cell_type": "code",
   "execution_count": 9,
   "metadata": {},
   "outputs": [],
   "source": [
    "from sklearn.neighbors import KNeighborsClassifier\n",
    "from sklearn.linear_model import LogisticRegression\n",
    "from sklearn.model_selection import GridSearchCV\n",
    "\n",
    "grid_knn = {\n",
    "    'n_neighbors' : [k for k in range(1, 50)]\n",
    "}\n",
    "\n",
    "grid_log_reg = {\n",
    "    'penalty': ['l2'],\n",
    "    'C': [1e-9, 1e-6, 1e-3, 1, 100, 1000, 10000],\n",
    "    'max_iter': [10, 100, 1000, 10000, 100000]\n",
    "}\n",
    "\n",
    "models_name = ['K-NN (recall)', 'K-NN (default)', 'Logistic regression (recall)', 'Logistic regression (default)']\n",
    "grids = [grid_knn, grid_knn, grid_log_reg, grid_log_reg]\n",
    "models = [\n",
    "    GridSearchCV(KNeighborsClassifier(), grid_knn, cv=10, n_jobs=-1, scoring='recall'),\n",
    "    GridSearchCV(KNeighborsClassifier(), grid_knn, cv=10, n_jobs=-1),\n",
    "    GridSearchCV(LogisticRegression(), grid_log_reg, cv=10, n_jobs=-1, scoring='recall'),\n",
    "    GridSearchCV(LogisticRegression(), grid_log_reg, cv=10, n_jobs=-1)\n",
    "]"
   ]
  },
  {
   "cell_type": "code",
   "execution_count": null,
   "metadata": {},
   "outputs": [],
   "source": [
    "from sklearn.metrics import precision_score, recall_score, f1_score, roc_auc_score\n",
    "\n",
    "import warnings\n",
    "warnings.filterwarnings('ignore')\n",
    "\n",
    "results = pd.DataFrame(columns=[\"Model\", \"Precision\", \"Recall\", \"f1-score\", \"AUC\"])\n",
    "\n",
    "for i, (model_name, model, grid) in enumerate(zip(models_name, models, grids)):\n",
    "    model.fit(df_input_train, df_output_train)\n",
    "\n",
    "    precision = precision_score(df_output_test, model.predict(df_input_test))\n",
    "    recall = recall_score(df_output_test, model.predict(df_input_test))\n",
    "    f1 = f1_score(df_output_test, model.predict(df_input_test))\n",
    "    roc_auc = roc_auc_score(df_output_test, model.predict(df_input_test))\n",
    "\n",
    "    results.loc[i] = [model_name, f\"{precision:.3f}\", f\"{recall:.3f}\", f\"{f1:.3f}\", f\"{roc_auc:.3f}\"]"
   ]
  },
  {
   "cell_type": "code",
   "execution_count": 11,
   "metadata": {},
   "outputs": [
    {
     "name": "stdout",
     "output_type": "stream",
     "text": [
      "Best parameters for K-NN (recall): {'n_neighbors': 39}\n",
      "Best parameters for K-NN (default): {'n_neighbors': 3}\n",
      "Best parameters for Logistic regression (recall): {'C': 1e-09, 'max_iter': 100, 'penalty': 'l2'}\n",
      "Best parameters for Logistic regression (default): {'C': 1000, 'max_iter': 10000, 'penalty': 'l2'}\n"
     ]
    }
   ],
   "source": [
    "for model_name, model in zip(models_name, models):\n",
    "    print(f\"Best parameters for {model_name}: {model.best_params_}\")"
   ]
  },
  {
   "cell_type": "markdown",
   "metadata": {},
   "source": [
    "## Results"
   ]
  },
  {
   "cell_type": "code",
   "execution_count": 12,
   "metadata": {},
   "outputs": [
    {
     "name": "stdout",
     "output_type": "stream",
     "text": [
      "                        Model Precision Recall f1-score   AUC\n",
      "                K-NN (recall)     0.922  1.000    0.959 0.930\n",
      "               K-NN (default)     0.932  0.958    0.944 0.921\n",
      " Logistic regression (recall)     0.623  1.000    0.768 0.500\n",
      "Logistic regression (default)     0.986  0.986    0.986 0.981\n"
     ]
    }
   ],
   "source": [
    "print(results.to_string(index=False))"
   ]
  },
  {
   "cell_type": "code",
   "execution_count": 13,
   "metadata": {},
   "outputs": [
    {
     "data": {
      "image/png": "[encoded data removed]",
      "text/plain": [
       "<Figure size 1500x1000 with 8 Axes>"
      ]
     },
     "metadata": {},
     "output_type": "display_data"
    }
   ],
   "source": [
    "import seaborn as sns\n",
    "import numpy as np\n",
    "import matplotlib.pyplot as plt\n",
    "from sklearn.metrics import confusion_matrix\n",
    "\n",
    "fig, axes = plt.subplots(2, 2, figsize=(15, 10))\n",
    "\n",
    "for i, model in enumerate(models):\n",
    "    y_pred = model.predict(df_input_test)\n",
    "    cm = confusion_matrix(df_output_test, y_pred)\n",
    "    cm_normalized = cm.astype('float') / cm.sum(axis=1)[:, np.newaxis]\n",
    "    sns.heatmap(cm_normalized, annot=True, fmt='.0%', ax=axes[i//2, i%2], cmap='coolwarm')\n",
    "    axes[i//2, i%2].set_title(models_name[i])\n",
    "    \n",
    "plt.tight_layout()\n",
    "plt.show()\n"
   ]
  },
  {
   "cell_type": "markdown",
   "metadata": {},
   "source": [
    "The Logistic regression model (recall) maximize the recall by classificating everything as 1 but has a bad precision.  \n",
    "We can hesitate between **k-nn (recall)** and **logistic regression (default)** :  \n",
    "**To decide, we need more precision about the objective of maximisation**"
   ]
  },
  {
   "cell_type": "markdown",
   "metadata": {},
   "source": [
    "## Boston Housing"
   ]
  },
  {
   "cell_type": "markdown",
   "metadata": {},
   "source": [
    "### Load data"
   ]
  },
  {
   "cell_type": "code",
   "execution_count": 14,
   "metadata": {},
   "outputs": [],
   "source": [
    "import mglearn\n",
    "X, y = mglearn.datasets.load_extended_boston()"
   ]
  },
  {
   "cell_type": "markdown",
   "metadata": {},
   "source": [
    "### Preprocessing"
   ]
  },
  {
   "cell_type": "code",
   "execution_count": 15,
   "metadata": {},
   "outputs": [],
   "source": [
    "from sklearn.model_selection import train_test_split\n",
    "X_train, X_test, y_train, y_test = train_test_split(X, y, test_size=0.2, random_state=42)"
   ]
  },
  {
   "cell_type": "markdown",
   "metadata": {},
   "source": [
    "### Training"
   ]
  },
  {
   "cell_type": "markdown",
   "metadata": {},
   "source": [
    "#### With hand"
   ]
  },
  {
   "cell_type": "markdown",
   "metadata": {},
   "source": [
    "##### Linear Regression"
   ]
  },
  {
   "cell_type": "code",
   "execution_count": 16,
   "metadata": {},
   "outputs": [],
   "source": [
    "from sklearn.linear_model import LinearRegression\n",
    "from sklearn.metrics import r2_score, mean_squared_error, mean_absolute_percentage_error\n",
    "\n",
    "best_r2 = 0\n",
    "\n",
    "lr = LinearRegression()\n",
    "lr.fit(X_train, y_train)\n",
    "\n",
    "y_pred = lr.predict(X_test)\n",
    "mape_lr = mean_absolute_percentage_error(y_test, y_pred)\n",
    "r2_lr = r2_score(y_test, y_pred)\n",
    "mse_lr = np.sqrt(mean_squared_error(y_test, y_pred))\n"
   ]
  },
  {
   "cell_type": "markdown",
   "metadata": {},
   "source": [
    "##### Ridge"
   ]
  },
  {
   "cell_type": "code",
   "execution_count": 17,
   "metadata": {},
   "outputs": [
    {
     "name": "stdout",
     "output_type": "stream",
     "text": [
      "0.001 10\n"
     ]
    }
   ],
   "source": [
    "from sklearn.model_selection import cross_val_score\n",
    "from sklearn.linear_model import Ridge\n",
    "import itertools\n",
    "from sklearn.metrics import r2_score, mean_squared_error, mean_absolute_percentage_error\n",
    "\n",
    "best_r2 = 0\n",
    "\n",
    "param_values = {\n",
    "    'alpha': [1e-9, 1e-6, 1e-3, 1, 10, 100, 1000, 10000],\n",
    "    'max_iter': [10, 100, 1000, 10000, 100000]\n",
    "}\n",
    "\n",
    "param_combinations = itertools.product(param_values['alpha'], param_values['max_iter'])\n",
    "\n",
    "for alpha, max_iter in param_combinations:\n",
    "    ridge = Ridge(alpha=alpha, max_iter=max_iter)\n",
    "    ridge.fit(X_train, y_train)\n",
    "    r2s = cross_val_score(ridge, X_train, y_train, cv=10, scoring='r2')\n",
    "    r2 = r2s.mean()\n",
    "    if r2 > best_r2:\n",
    "        best_r2 = r2\n",
    "        best_ridge = ridge\n",
    "        best_alpha = alpha\n",
    "        best_max_iter = max_iter\n",
    "\n",
    "print(best_alpha, best_max_iter)\n",
    "\n",
    "y_pred = best_ridge.predict(X_test)\n",
    "mape_ridge = mean_absolute_percentage_error(y_test, y_pred)\n",
    "r2_ridge = r2_score(y_test, y_pred)\n",
    "mse_ridge = np.sqrt(mean_squared_error(y_test, y_pred))"
   ]
  },
  {
   "cell_type": "markdown",
   "metadata": {},
   "source": [
    "##### Lasso"
   ]
  },
  {
   "cell_type": "code",
   "execution_count": 18,
   "metadata": {},
   "outputs": [
    {
     "name": "stdout",
     "output_type": "stream",
     "text": [
      "0.001 1000\n"
     ]
    }
   ],
   "source": [
    "from sklearn.model_selection import cross_val_score\n",
    "from sklearn.linear_model import Lasso\n",
    "import itertools\n",
    "from sklearn.metrics import r2_score, mean_squared_error, mean_absolute_percentage_error\n",
    "\n",
    "best_r2 = 0\n",
    "\n",
    "param_values = {\n",
    "    'alpha': [1e-9, 1e-6, 1e-3, 1, 10, 100, 1000, 10000],\n",
    "    'max_iter': [10, 100, 1000, 10000, 100000]\n",
    "}\n",
    "\n",
    "param_combinations = itertools.product(param_values['alpha'], param_values['max_iter'])\n",
    "\n",
    "for alpha, max_iter in param_combinations:\n",
    "    lasso = Lasso(alpha=alpha, max_iter=max_iter)\n",
    "    lasso.fit(X_train, y_train)\n",
    "    r2s = cross_val_score(lasso, X_train, y_train, cv=10, scoring='r2')\n",
    "    r2 = r2s.mean()\n",
    "    if r2 > best_r2:\n",
    "        best_r2 = r2\n",
    "        best_lasso = lasso\n",
    "        best_alpha = alpha\n",
    "        best_max_iter = max_iter\n",
    "\n",
    "print(best_alpha, best_max_iter)\n",
    "\n",
    "y_pred = best_lasso.predict(X_test)\n",
    "mape_lasso = mean_absolute_percentage_error(y_test, y_pred)\n",
    "r2_lasso = r2_score(y_test, y_pred)\n",
    "mse_lasso = np.sqrt(mean_squared_error(y_test, y_pred))"
   ]
  },
  {
   "cell_type": "code",
   "execution_count": 19,
   "metadata": {},
   "outputs": [
    {
     "name": "stdout",
     "output_type": "stream",
     "text": [
      "            Model  MAPE    r2  MSE\n",
      "Linear regression 0.137 0.806 3.78\n",
      "            Ridge 0.127 0.817 3.66\n",
      "            Lasso 0.114 0.840 3.42\n"
     ]
    }
   ],
   "source": [
    "results = pd.DataFrame(columns=[\"Model\", \"MAPE\", \"r2\", \"MSE\"])\n",
    "results.loc[0] = [\"Linear regression\", f\"{mape_lr:.3f}\", f\"{r2_lr:.3f}\", f\"{mse_lr:.2f}\"]\n",
    "results.loc[1] = [\"Ridge\", f\"{mape_ridge:.3f}\", f\"{r2_ridge:.3f}\", f\"{mse_ridge:.2f}\"]\n",
    "results.loc[2] = [\"Lasso\", f\"{mape_lasso:.3f}\", f\"{r2_lasso:.3f}\", f\"{mse_lasso:.2f}\"]\n",
    "\n",
    "print(results.to_string(index=False))"
   ]
  },
  {
   "cell_type": "markdown",
   "metadata": {},
   "source": [
    "#### With GridSearchCV"
   ]
  },
  {
   "cell_type": "code",
   "execution_count": 20,
   "metadata": {},
   "outputs": [],
   "source": [
    "from sklearn.linear_model import LogisticRegression, Ridge, Lasso\n",
    "from sklearn.model_selection import GridSearchCV\n",
    "\n",
    "grid_lr = {}\n",
    "\n",
    "grid_ridge = {\n",
    "    'alpha': [1e-9, 1e-6, 1e-3, 1, 10, 100, 1000, 10000],\n",
    "    'max_iter': [10, 100, 1000, 10000, 100000]\n",
    "}\n",
    "\n",
    "grid_lasso = {\n",
    "    'alpha': [1e-9, 1e-6, 1e-3, 1, 10, 100, 1000, 10000],\n",
    "    'max_iter': [10, 100, 1000, 10000, 100000]\n",
    "}\n",
    "\n",
    "models_name = ['Linear regression', 'Ridge', 'Lasso']\n",
    "grids = [grid_lr, grid_ridge, grid_lasso]\n",
    "models = [\n",
    "    GridSearchCV(LinearRegression(), grid_lr, cv=10, n_jobs=-1),\n",
    "    GridSearchCV(Ridge(), grid_ridge, cv=10, n_jobs=-1, scoring='r2'),\n",
    "    GridSearchCV(Lasso(), grid_lasso, cv=10, n_jobs=-1, scoring='r2')\n",
    "]"
   ]
  },
  {
   "cell_type": "code",
   "execution_count": null,
   "metadata": {},
   "outputs": [],
   "source": [
    "from sklearn.metrics import r2_score, mean_squared_error, mean_absolute_percentage_error\n",
    "\n",
    "import warnings\n",
    "warnings.filterwarnings('ignore')\n",
    "\n",
    "results = pd.DataFrame(columns=[\"Model\", \"MAPE\", \"r2\", \"MSE\"])\n",
    "\n",
    "for i, (model_name, model, grid) in enumerate(zip(models_name, models, grids)):\n",
    "    model.fit(X_train, y_train)\n",
    "\n",
    "    y_pred = model.predict(X_test)\n",
    "    mape = mean_absolute_percentage_error(y_test, y_pred)\n",
    "    r2 = r2_score(y_test, y_pred)\n",
    "    mse = np.sqrt(mean_squared_error(y_test, y_pred))\n",
    "\n",
    "    results.loc[i] = [model_name, f\"{mape:.3f}\", f\"{r2:.3f}\", f\"{mse:.2f}\"]"
   ]
  },
  {
   "cell_type": "code",
   "execution_count": 22,
   "metadata": {},
   "outputs": [
    {
     "name": "stdout",
     "output_type": "stream",
     "text": [
      "Best parameters for Linear regression: {}\n",
      "Best parameters for Ridge: {'alpha': 0.001, 'max_iter': 10}\n",
      "Best parameters for Lasso: {'alpha': 0.001, 'max_iter': 1000}\n"
     ]
    }
   ],
   "source": [
    "for model_name, model in zip(models_name, models):\n",
    "    print(f\"Best parameters for {model_name}: {model.best_params_}\")\n"
   ]
  },
  {
   "cell_type": "code",
   "execution_count": 23,
   "metadata": {},
   "outputs": [
    {
     "name": "stdout",
     "output_type": "stream",
     "text": [
      "            Model  MAPE    r2  MSE\n",
      "Linear regression 0.137 0.806 3.78\n",
      "            Ridge 0.127 0.817 3.66\n",
      "            Lasso 0.114 0.840 3.42\n"
     ]
    }
   ],
   "source": [
    "print(results.to_string(index=False))"
   ]
  },
  {
   "cell_type": "markdown",
   "metadata": {},
   "source": [
    "Lasso seems to be the model with the highest r² and the lowest MSE. We choose this model."
   ]
  }
 ],
 "metadata": {
  "kernelspec": {
   "display_name": "ml_venv",
   "language": "python",
   "name": "python3"
  },
  "language_info": {
   "codemirror_mode": {
    "name": "ipython",
    "version": 3
   },
   "file_extension": ".py",
   "mimetype": "text/x-python",
   "name": "python",
   "nbconvert_exporter": "python",
   "pygments_lexer": "ipython3",
   "version": "3.9.18"
  }
 },
 "nbformat": 4,
 "nbformat_minor": 2
}
