{
 "cells": [
  {
   "cell_type": "markdown",
   "metadata": {},
   "source": [
    "# Exercice 1"
   ]
  },
  {
   "cell_type": "markdown",
   "metadata": {},
   "source": [
    "## Breast cancer"
   ]
  },
  {
   "cell_type": "markdown",
   "metadata": {},
   "source": [
    "In cancer detection, we want to minimize incorrect negative predictions (i.e. the sick patient is classified as negative) because this diagnosis could lead to serious health problems. Therefore, the most important metric in the application of cancer detection is the recall which objective is to limit the number of false negatives."
   ]
  },
  {
   "cell_type": "markdown",
   "metadata": {},
   "source": [
    "### Load data"
   ]
  },
  {
   "cell_type": "code",
   "execution_count": 1,
   "metadata": {},
   "outputs": [],
   "source": [
    "from sklearn.datasets import load_breast_cancer\n",
    "\n",
    "cancer = load_breast_cancer()"
   ]
  },
  {
   "cell_type": "code",
   "execution_count": 2,
   "metadata": {},
   "outputs": [
    {
     "data": {
      "text/plain": [
       "array(['malignant', 'benign'], dtype='<U9')"
      ]
     },
     "execution_count": 2,
     "metadata": {},
     "output_type": "execute_result"
    }
   ],
   "source": [
    "cancer['target_names']"
   ]
  },
  {
   "cell_type": "markdown",
   "metadata": {},
   "source": [
    "**Target**  \n",
    "'0' => malignant/sick  \n",
    "'1' => benign/safe"
   ]
  },
  {
   "cell_type": "markdown",
   "metadata": {},
   "source": [
    "### Preprocessing"
   ]
  },
  {
   "cell_type": "code",
   "execution_count": 3,
   "metadata": {},
   "outputs": [
    {
     "name": "stderr",
     "output_type": "stream",
     "text": [
      "/tmp/ipykernel_49431/3993757016.py:1: DeprecationWarning: \n",
      "Pyarrow will become a required dependency of pandas in the next major release of pandas (pandas 3.0),\n",
      "(to allow more performant data types, such as the Arrow string type, and better interoperability with other libraries)\n",
      "but was not found to be installed on your system.\n",
      "If this would cause problems for you,\n",
      "please provide us feedback at https://github.com/pandas-dev/pandas/issues/54466\n",
      "        \n",
      "  import pandas as pd\n"
     ]
    }
   ],
   "source": [
    "import pandas as pd\n",
    "from sklearn.model_selection import train_test_split\n",
    "\n",
    "df_cancer = pd.DataFrame(data=cancer['data'], columns=cancer['feature_names'])\n",
    "df_cancer['target'] = cancer['target']\n",
    "\n",
    "X_train, X_test, y_train, y_test = train_test_split(df_cancer.drop('target', axis=1), df_cancer['target'], test_size=0.2, random_state=42)"
   ]
  },
  {
   "cell_type": "code",
   "execution_count": 4,
   "metadata": {},
   "outputs": [],
   "source": [
    "from sklearn.preprocessing import StandardScaler\n",
    "\n",
    "scaler = StandardScaler()\n",
    "X_train_sc = scaler.fit_transform(X_train)\n",
    "X_test_sc = scaler.transform(X_test)"
   ]
  },
  {
   "cell_type": "markdown",
   "metadata": {},
   "source": [
    "### Training"
   ]
  },
  {
   "cell_type": "markdown",
   "metadata": {},
   "source": [
    "#### With hand"
   ]
  },
  {
   "cell_type": "markdown",
   "metadata": {},
   "source": [
    "##### Bayesian classification"
   ]
  },
  {
   "cell_type": "code",
   "execution_count": 5,
   "metadata": {},
   "outputs": [
    {
     "name": "stdout",
     "output_type": "stream",
     "text": [
      "Accuracy: 0.982\n",
      "Precision: 0.986\n",
      "Recall: 0.986\n",
      "F1: 0.986\n",
      "AUC: 0.981\n"
     ]
    }
   ],
   "source": [
    "from sklearn.naive_bayes import BernoulliNB\n",
    "from sklearn.metrics import accuracy_score, precision_score, recall_score, f1_score, roc_auc_score\n",
    "\n",
    "NB_clf = BernoulliNB()\n",
    "NB_clf.fit(X_train_sc, y_train)\n",
    "y_pred = NB_clf.predict(X_test_sc)\n",
    "\n",
    "accuracy_nb = round(accuracy_score(y_test, y_pred), 3)\n",
    "precision_nb = round(precision_score(y_test, y_pred), 3)\n",
    "recall_nb = round(recall_score(y_test, y_pred), 3)\n",
    "f1_nb = round(f1_score(y_test, y_pred), 3)\n",
    "auc_nb = round(roc_auc_score(y_test, y_pred), 3)\n",
    "\n",
    "print(f'Accuracy: {accuracy_nb}')\n",
    "print(f'Precision: {precision_nb}')\n",
    "print(f'Recall: {recall_nb}')\n",
    "print(f'F1: {f1_nb}')\n",
    "print(f'AUC: {auc_nb}')"
   ]
  },
  {
   "cell_type": "markdown",
   "metadata": {},
   "source": [
    "##### Decision Tree"
   ]
  },
  {
   "cell_type": "code",
   "execution_count": 6,
   "metadata": {},
   "outputs": [],
   "source": [
    "from sklearn.model_selection import cross_val_score\n",
    "from sklearn.tree import DecisionTreeClassifier\n",
    "\n",
    "best_recall = 0\n",
    "\n",
    "param_values = {\n",
    "    'max_depth' : range(1, X_train_sc.shape[1] + 1),\n",
    "}\n",
    "\n",
    "for depth in param_values['max_depth']:\n",
    "    dc = DecisionTreeClassifier(max_depth=depth, random_state=42)\n",
    "    dc.fit(X_train_sc, y_train)\n",
    "    recalls = cross_val_score(dc, X_train_sc, y_train, cv=10, scoring='recall')\n",
    "    recall = recalls.mean()\n",
    "    if recall > best_recall:\n",
    "        best_recall = recall\n",
    "        best_depth = depth\n",
    "        best_dc = dc"
   ]
  },
  {
   "cell_type": "code",
   "execution_count": 7,
   "metadata": {},
   "outputs": [
    {
     "name": "stdout",
     "output_type": "stream",
     "text": [
      "Best depth: 5\n"
     ]
    }
   ],
   "source": [
    "print(f\"Best depth: {best_depth}\")"
   ]
  },
  {
   "cell_type": "code",
   "execution_count": 8,
   "metadata": {},
   "outputs": [
    {
     "name": "stdout",
     "output_type": "stream",
     "text": [
      "Accuracy: 0.947\n",
      "Precision: 0.958\n",
      "Recall: 0.958\n",
      "f1: 0.958\n",
      "AUC: 0.944\n"
     ]
    }
   ],
   "source": [
    "from sklearn.metrics import accuracy_score, precision_score, recall_score, f1_score, roc_auc_score\n",
    "\n",
    "y_pred = best_dc.predict(X_test_sc)\n",
    "\n",
    "accuracy_dt = round(accuracy_score(y_test, y_pred), 3)\n",
    "precision_dt = round(precision_score(y_test, y_pred), 3)\n",
    "recall_dt = round(recall_score(y_test, y_pred), 3)\n",
    "f1_dt = round(f1_score(y_test, y_pred), 3)\n",
    "auc_dt = round(roc_auc_score(y_test, y_pred), 3)\n",
    "\n",
    "print(f'Accuracy: {accuracy_dt}')\n",
    "print(f'Precision: {precision_dt}')\n",
    "print(f'Recall: {recall_dt}')\n",
    "print(f'f1: {f1_dt}')\n",
    "print(f'AUC: {auc_dt}')"
   ]
  },
  {
   "cell_type": "markdown",
   "metadata": {},
   "source": [
    "##### Random Forest"
   ]
  },
  {
   "cell_type": "code",
   "execution_count": 9,
   "metadata": {},
   "outputs": [
    {
     "name": "stderr",
     "output_type": "stream",
     "text": [
      "100%|██████████| 30/30 [01:03<00:00,  2.13s/it]\n"
     ]
    }
   ],
   "source": [
    "from sklearn.model_selection import cross_val_score\n",
    "from sklearn.ensemble import RandomForestClassifier\n",
    "from tqdm import tqdm\n",
    "\n",
    "best_recall = 0\n",
    "\n",
    "param_values = {\n",
    "    'max_depth' : range(1, X_train_sc.shape[1] + 1),\n",
    "}\n",
    "for depth in tqdm(param_values['max_depth']):\n",
    "    rf = RandomForestClassifier(max_depth=depth, n_jobs=-1, random_state=42)\n",
    "    rf.fit(X_train_sc, y_train)\n",
    "    recalls = cross_val_score(rf, X_train_sc, y_train, cv=10, scoring='recall')\n",
    "    recall = recalls.mean()\n",
    "    if recall > best_recall:\n",
    "        best_recall = recall\n",
    "        best_depth = depth\n",
    "        best_rf = rf"
   ]
  },
  {
   "cell_type": "code",
   "execution_count": 10,
   "metadata": {},
   "outputs": [
    {
     "name": "stdout",
     "output_type": "stream",
     "text": [
      "Best depth: 6\n"
     ]
    }
   ],
   "source": [
    "print(f\"Best depth: {best_depth}\")"
   ]
  },
  {
   "cell_type": "code",
   "execution_count": 11,
   "metadata": {},
   "outputs": [
    {
     "name": "stdout",
     "output_type": "stream",
     "text": [
      "Accuracy: 0.965\n",
      "Precision: 0.959\n",
      "Recall: 0.986\n",
      "f1: 0.972\n",
      "AUC: 0.958\n"
     ]
    }
   ],
   "source": [
    "from sklearn.metrics import accuracy_score, precision_score, recall_score, f1_score, roc_auc_score\n",
    "\n",
    "y_pred = best_rf.predict(X_test_sc)\n",
    "\n",
    "accuracy_rf = round(accuracy_score(y_test, y_pred), 3)\n",
    "precision_rf = round(precision_score(y_test, y_pred), 3)\n",
    "recall_rf = round(recall_score(y_test, y_pred), 3)\n",
    "f1_rf = round(f1_score(y_test, y_pred), 3)\n",
    "auc_rf = round(roc_auc_score(y_test, y_pred), 3)\n",
    "\n",
    "print(f'Accuracy: {accuracy_rf}')\n",
    "print(f'Precision: {precision_rf}')\n",
    "print(f'Recall: {recall_rf}')\n",
    "print(f'f1: {f1_rf}')\n",
    "print(f'AUC: {auc_rf}')\n"
   ]
  },
  {
   "cell_type": "markdown",
   "metadata": {},
   "source": [
    "##### XG Boost"
   ]
  },
  {
   "cell_type": "code",
   "execution_count": 12,
   "metadata": {},
   "outputs": [
    {
     "name": "stderr",
     "output_type": "stream",
     "text": [
      "100%|██████████| 30/30 [02:54<00:00,  5.82s/it]\n"
     ]
    }
   ],
   "source": [
    "from sklearn.model_selection import cross_val_score\n",
    "from sklearn.ensemble import GradientBoostingClassifier\n",
    "from tqdm import tqdm\n",
    "\n",
    "best_recall = 0\n",
    "\n",
    "param_values = {\n",
    "    'max_depth' : range(1, X_train_sc.shape[1] + 1),\n",
    "}\n",
    "\n",
    "for depth in tqdm(param_values['max_depth']):\n",
    "    gb = GradientBoostingClassifier(max_depth=depth, random_state=42)\n",
    "    gb.fit(X_train_sc, y_train)\n",
    "    recalls = cross_val_score(gb, X_train_sc, y_train, cv=10, scoring='recall')\n",
    "    recall = recalls.mean()\n",
    "    if recall > best_recall:\n",
    "        best_recall = recall\n",
    "        best_depth = depth\n",
    "        best_gb = gb"
   ]
  },
  {
   "cell_type": "code",
   "execution_count": 13,
   "metadata": {},
   "outputs": [
    {
     "name": "stdout",
     "output_type": "stream",
     "text": [
      "Best depth: 1\n"
     ]
    }
   ],
   "source": [
    "print(f\"Best depth: {best_depth}\")"
   ]
  },
  {
   "cell_type": "code",
   "execution_count": 14,
   "metadata": {},
   "outputs": [
    {
     "name": "stdout",
     "output_type": "stream",
     "text": [
      "Accuracy: 0.956\n",
      "Precision: 0.958\n",
      "Recall: 0.972\n",
      "f1: 0.965\n",
      "AUC: 0.951\n"
     ]
    }
   ],
   "source": [
    "from sklearn.metrics import accuracy_score, precision_score, recall_score, f1_score, roc_auc_score\n",
    "\n",
    "y_pred = best_gb.predict(X_test_sc)\n",
    "\n",
    "accuracy_gb = round(accuracy_score(y_test, y_pred), 3)\n",
    "precision_gb = round(precision_score(y_test, y_pred), 3)\n",
    "recall_gb = round(recall_score(y_test, y_pred), 3)\n",
    "f1_gb = round(f1_score(y_test, y_pred), 3)\n",
    "auc_gb = round(roc_auc_score(y_test, y_pred), 3)\n",
    "\n",
    "print(f'Accuracy: {accuracy_gb}')\n",
    "print(f'Precision: {precision_gb}')\n",
    "print(f'Recall: {recall_gb}')\n",
    "print(f'f1: {f1_gb}')\n",
    "print(f'AUC: {auc_gb}')"
   ]
  },
  {
   "cell_type": "code",
   "execution_count": 15,
   "metadata": {},
   "outputs": [
    {
     "name": "stdout",
     "output_type": "stream",
     "text": [
      "            Model  Accuracy  Precision  Recall  f1-score   AUC\n",
      "      Naive Bayes     0.982      0.986   0.986     0.986 0.981\n",
      "    Decision Tree     0.947      0.958   0.958     0.958 0.944\n",
      "    Random Forest     0.965      0.959   0.986     0.972 0.958\n",
      "Gradient Boosting     0.956      0.958   0.972     0.965 0.951\n"
     ]
    }
   ],
   "source": [
    "\n",
    "results = pd.DataFrame(columns=[\"Model\", \"Accuracy\", \"Precision\", \"Recall\", \"f1-score\", \"AUC\"])\n",
    "results.loc[0] = [\"Naive Bayes\", accuracy_nb, precision_nb, recall_nb, f1_nb, auc_nb]\n",
    "results.loc[1] = [\"Decision Tree\", accuracy_dt, precision_dt, recall_dt, f1_dt, auc_dt]\n",
    "results.loc[2] = [\"Random Forest\", accuracy_rf, precision_rf, recall_rf, f1_rf, auc_rf]\n",
    "results.loc[3] = [\"Gradient Boosting\", accuracy_gb, precision_gb, recall_gb, f1_gb, auc_gb]\n",
    "\n",
    "print(results.to_string(index=False))\n"
   ]
  },
  {
   "cell_type": "markdown",
   "metadata": {},
   "source": [
    "#### With GridSearchCV"
   ]
  },
  {
   "cell_type": "code",
   "execution_count": 16,
   "metadata": {},
   "outputs": [],
   "source": [
    "from sklearn.naive_bayes import BernoulliNB\n",
    "from sklearn.tree import DecisionTreeClassifier\n",
    "from sklearn.ensemble import RandomForestClassifier\n",
    "from sklearn.ensemble import GradientBoostingClassifier\n",
    "\n",
    "from sklearn.model_selection import GridSearchCV\n",
    "\n",
    "grid_nb = {}\n",
    "\n",
    "grid_dt = {\n",
    "    'max_depth': range(1, X_train_sc.shape[1] + 1)\n",
    "}\n",
    "\n",
    "grid_rf = {\n",
    "    'max_depth': range(1, X_train_sc.shape[1] + 1)\n",
    "}\n",
    "\n",
    "grid_gb = {\n",
    "    'max_depth': range(1, X_train_sc.shape[1] + 1)\n",
    "}\n",
    "\n",
    "models_name = [\"Naive Bayes\", \"Decision Tree\", \"Random Forest\", \"Gradient Boosting\"]\n",
    "grids = [grid_nb, grid_dt, grid_rf, grid_gb]\n",
    "models = [\n",
    "    GridSearchCV(BernoulliNB(), grid_nb, cv=10, n_jobs=-1, scoring='recall'),\n",
    "    GridSearchCV(DecisionTreeClassifier(random_state=42), grid_dt, cv=10, n_jobs=-1, scoring='recall'),\n",
    "    GridSearchCV(RandomForestClassifier(random_state=42), grid_rf, cv=10, n_jobs=-1, scoring='recall'),\n",
    "    GridSearchCV(GradientBoostingClassifier(random_state=42), grid_gb, cv=10, n_jobs=-1, scoring='recall')\n",
    "]"
   ]
  },
  {
   "cell_type": "code",
   "execution_count": 17,
   "metadata": {},
   "outputs": [],
   "source": [
    "from sklearn.metrics import accuracy_score, precision_score, recall_score, f1_score, roc_auc_score\n",
    "\n",
    "import warnings\n",
    "warnings.filterwarnings('ignore')\n",
    "\n",
    "results = pd.DataFrame(columns=[\"Model\", \"Accuracy\", \"Precision\", \"Recall\", \"f1-score\", \"AUC\"])\n",
    "\n",
    "for i, (model_name, model, grid) in enumerate(zip(models_name, models, grids)):\n",
    "    model.fit(X_train_sc, y_train)\n",
    "    y_pred = model.predict(X_test_sc)\n",
    "\n",
    "    accuracy = round(accuracy_score(y_test, y_pred), 3)\n",
    "    precision = round(precision_score(y_test, y_pred), 3)\n",
    "    recall = round(recall_score(y_test, y_pred), 3)\n",
    "    f1 = round(f1_score(y_test, y_pred), 3)\n",
    "    roc_auc = round(roc_auc_score(y_test, y_pred), 3)\n",
    "\n",
    "    results.loc[i] = [model_name, accuracy, precision, recall, f1, roc_auc]"
   ]
  },
  {
   "cell_type": "code",
   "execution_count": 18,
   "metadata": {},
   "outputs": [
    {
     "name": "stdout",
     "output_type": "stream",
     "text": [
      "Best parameters for Naive Bayes: {}\n",
      "Best parameters for Decision Tree: {'max_depth': 5}\n",
      "Best parameters for Random Forest: {'max_depth': 6}\n",
      "Best parameters for Gradient Boosting: {'max_depth': 1}\n"
     ]
    }
   ],
   "source": [
    "for model_name, model in zip(models_name, models):\n",
    "    print(f\"Best parameters for {model_name}: {model.best_params_}\")"
   ]
  },
  {
   "cell_type": "markdown",
   "metadata": {},
   "source": [
    "## Results"
   ]
  },
  {
   "cell_type": "code",
   "execution_count": 19,
   "metadata": {},
   "outputs": [
    {
     "name": "stdout",
     "output_type": "stream",
     "text": [
      "            Model  Accuracy  Precision  Recall  f1-score   AUC\n",
      "      Naive Bayes     0.982      0.986   0.986     0.986 0.981\n",
      "    Decision Tree     0.947      0.958   0.958     0.958 0.944\n",
      "    Random Forest     0.965      0.959   0.986     0.972 0.958\n",
      "Gradient Boosting     0.956      0.958   0.972     0.965 0.951\n"
     ]
    }
   ],
   "source": [
    "print(results.to_string(index=False))"
   ]
  },
  {
   "cell_type": "code",
   "execution_count": 20,
   "metadata": {},
   "outputs": [
    {
     "data": {
      "image/png": "[encoded data removed]",
      "text/plain": [
       "<Figure size 1500x1000 with 8 Axes>"
      ]
     },
     "metadata": {},
     "output_type": "display_data"
    }
   ],
   "source": [
    "import seaborn as sns\n",
    "import numpy as np\n",
    "import matplotlib.pyplot as plt\n",
    "from sklearn.metrics import confusion_matrix\n",
    "\n",
    "fig, axes = plt.subplots(2, 2, figsize=(15, 10))\n",
    "\n",
    "for i, model in enumerate(models):\n",
    "    y_pred = model.predict(X_test_sc)\n",
    "    cm = confusion_matrix(y_test, y_pred)\n",
    "    cm_normalized = cm.astype('float') / cm.sum(axis=1)[:, np.newaxis]\n",
    "    sns.heatmap(cm_normalized, annot=True, fmt='.0%', ax=axes[i//2, i%2], cmap='coolwarm')\n",
    "    axes[i//2, i%2].set_title(models_name[i])\n",
    "    \n",
    "plt.tight_layout()\n",
    "plt.show()"
   ]
  },
  {
   "cell_type": "markdown",
   "metadata": {},
   "source": [
    "We obtain better a better recall with the **Naive Bayes** model so we choose this this model."
   ]
  },
  {
   "cell_type": "markdown",
   "metadata": {},
   "source": [
    "## Boston Housing"
   ]
  },
  {
   "cell_type": "markdown",
   "metadata": {},
   "source": [
    "### Load data"
   ]
  },
  {
   "cell_type": "code",
   "execution_count": 21,
   "metadata": {},
   "outputs": [],
   "source": [
    "import mglearn\n",
    "X, y = mglearn.datasets.load_extended_boston()"
   ]
  },
  {
   "cell_type": "markdown",
   "metadata": {},
   "source": [
    "### Preprocessing"
   ]
  },
  {
   "cell_type": "code",
   "execution_count": 22,
   "metadata": {},
   "outputs": [],
   "source": [
    "from sklearn.model_selection import train_test_split\n",
    "X_train, X_test, y_train, y_test = train_test_split(X, y, test_size=0.2, random_state=42)"
   ]
  },
  {
   "cell_type": "markdown",
   "metadata": {},
   "source": [
    "### Training"
   ]
  },
  {
   "cell_type": "markdown",
   "metadata": {},
   "source": [
    "#### With hand"
   ]
  },
  {
   "cell_type": "markdown",
   "metadata": {},
   "source": [
    "##### Bayesian Regression"
   ]
  },
  {
   "cell_type": "code",
   "execution_count": 23,
   "metadata": {},
   "outputs": [],
   "source": [
    "# TODO"
   ]
  },
  {
   "cell_type": "markdown",
   "metadata": {},
   "source": [
    "##### Decision Tree"
   ]
  },
  {
   "cell_type": "code",
   "execution_count": 24,
   "metadata": {},
   "outputs": [],
   "source": [
    "from sklearn.model_selection import cross_val_score\n",
    "from sklearn.tree import DecisionTreeRegressor\n",
    "\n",
    "best_r2 = 0\n",
    "\n",
    "param_values = {\n",
    "    'max_depth': range(1, X_train.shape[1] + 1)\n",
    "}\n",
    "\n",
    "for depth in param_values['max_depth']:\n",
    "    dt = DecisionTreeRegressor(max_depth=depth, random_state=42)\n",
    "    dt.fit(X_train, y_train)\n",
    "\n",
    "    r2s = cross_val_score(dt, X_train, y_train, cv=10, scoring='r2')\n",
    "    r2 = r2s.mean()\n",
    "    if r2 > best_r2:\n",
    "        best_r2 = r2\n",
    "        best_depth = depth\n",
    "        best_dt = dt"
   ]
  },
  {
   "cell_type": "code",
   "execution_count": 25,
   "metadata": {},
   "outputs": [
    {
     "name": "stdout",
     "output_type": "stream",
     "text": [
      "Best depth: 10\n"
     ]
    }
   ],
   "source": [
    "print(f\"Best depth: {best_depth}\")"
   ]
  },
  {
   "cell_type": "code",
   "execution_count": 26,
   "metadata": {},
   "outputs": [
    {
     "name": "stdout",
     "output_type": "stream",
     "text": [
      "MAPE : 0.12460414024049826\n",
      "RMSE : 3.599\n",
      "r2 : 0.823\n"
     ]
    }
   ],
   "source": [
    "from sklearn.metrics import mean_absolute_percentage_error, mean_squared_error, r2_score\n",
    "import numpy as np\n",
    "\n",
    "y_pred = best_dt.predict(X_test)\n",
    "\n",
    "mape_dt = mean_absolute_percentage_error(y_test, y_pred)\n",
    "rmse_dt = round(np.sqrt(mean_squared_error(y_test, y_pred)), 3)\n",
    "r2_dt = round(r2_score(y_test, y_pred), 3)\n",
    "\n",
    "print(f\"MAPE : {mape_dt}\")\n",
    "print(f\"RMSE : {rmse_dt}\")\n",
    "print(f\"r2 : {r2_dt}\")"
   ]
  },
  {
   "cell_type": "markdown",
   "metadata": {},
   "source": [
    "##### Random Forest"
   ]
  },
  {
   "cell_type": "code",
   "execution_count": 27,
   "metadata": {},
   "outputs": [],
   "source": [
    "from sklearn.model_selection import cross_val_score\n",
    "from sklearn.ensemble import RandomForestRegressor\n",
    "from tqdm import tqdm\n",
    "\n",
    "best_r2 = 0\n",
    "\n",
    "param_values = {\n",
    "    'max_depth': range(1, X_train.shape[1] + 1)\n",
    "}\n",
    "\n",
    "for depth in tqdm(param_values['max_depth']):\n",
    "    rf = RandomForestRegressor(max_depth=depth, random_state=42)\n",
    "    rf.fit(X_train, y_train)\n",
    "\n",
    "    r2s = cross_val_score(rf, X_train, y_train, cv=10, scoring='r2')\n",
    "    r2 = r2s.mean()\n",
    "    if r2 > best_r2:\n",
    "        best_r2 = r2\n",
    "        best_depth = depth\n",
    "        best_rf = rf"
   ]
  },
  {
   "cell_type": "code",
   "execution_count": 28,
   "metadata": {},
   "outputs": [
    {
     "name": "stdout",
     "output_type": "stream",
     "text": [
      "Best depth: 16\n"
     ]
    }
   ],
   "source": [
    "print(f\"Best depth: {best_depth}\")"
   ]
  },
  {
   "cell_type": "code",
   "execution_count": 29,
   "metadata": {},
   "outputs": [
    {
     "name": "stdout",
     "output_type": "stream",
     "text": [
      "MAPE : 0.10316796164137343\n",
      "RMSE : 2.838\n",
      "r2 : 0.89\n"
     ]
    }
   ],
   "source": [
    "from sklearn.metrics import mean_absolute_percentage_error, mean_squared_error, r2_score\n",
    "import numpy as np\n",
    "\n",
    "y_pred = best_rf.predict(X_test)\n",
    "\n",
    "mape_rf = mean_absolute_percentage_error(y_test, y_pred)\n",
    "rmse_rf = round(np.sqrt(mean_squared_error(y_test, y_pred)), 3)\n",
    "r2_rf = round(r2_score(y_test, y_pred), 3)\n",
    "\n",
    "print(f\"MAPE : {mape_rf}\")\n",
    "print(f\"RMSE : {rmse_rf}\")\n",
    "print(f\"r2 : {r2_rf}\")"
   ]
  },
  {
   "cell_type": "markdown",
   "metadata": {},
   "source": [
    "##### XG Boost"
   ]
  },
  {
   "cell_type": "code",
   "execution_count": 30,
   "metadata": {},
   "outputs": [],
   "source": [
    "from sklearn.model_selection import cross_val_score\n",
    "from sklearn.ensemble import GradientBoostingRegressor\n",
    "\n",
    "best_r2 = 0\n",
    "\n",
    "param_values = {\n",
    "    'max_depth': range(1, X_train.shape[1] + 1)\n",
    "}\n",
    "\n",
    "for depth in param_values['max_depth']:\n",
    "    gb = GradientBoostingRegressor(max_depth=depth, random_state=42)\n",
    "    gb.fit(X_train, y_train)\n",
    "\n",
    "    r2s = cross_val_score(gb, X_train, y_train, cv=10, scoring='r2')\n",
    "    r2 = r2s.mean()\n",
    "    if r2 > best_r2:\n",
    "        best_r2 = r2\n",
    "        best_depth = depth\n",
    "        best_gb = gb"
   ]
  },
  {
   "cell_type": "code",
   "execution_count": null,
   "metadata": {},
   "outputs": [],
   "source": [
    "print(f\"Best depth: {best_depth}\")"
   ]
  },
  {
   "cell_type": "code",
   "execution_count": null,
   "metadata": {},
   "outputs": [],
   "source": [
    "from sklearn.metrics import mean_absolute_percentage_error, mean_squared_error, r2_score\n",
    "import numpy as np\n",
    "\n",
    "y_pred = best_gb.predict(X_test)\n",
    "\n",
    "mape_gb = mean_absolute_percentage_error(y_test, y_pred)\n",
    "rmse_gb = round(np.sqrt(mean_squared_error(y_test, y_pred)), 3)\n",
    "r2_gb = round(r2_score(y_test, y_pred), 3)\n",
    "\n",
    "print(f\"MAPE : {mape_gb}\")\n",
    "print(f\"RMSE : {rmse_gb}\")\n",
    "print(f\"r2 : {r2_gb}\")"
   ]
  },
  {
   "cell_type": "code",
   "execution_count": null,
   "metadata": {},
   "outputs": [],
   "source": [
    "results = pd.DataFrame(columns=[\"Model\", \"MAPE\", \"MSE\", \"r2\"])\n",
    "results.loc[0] = [\"Decision Tree\", mape_dt, rmse_dt, r2_dt]\n",
    "results.loc[1] = [\"Random Forest\", mape_rf, rmse_rf, r2_rf]\n",
    "results.loc[2] = [\"Gradient Boosting\", mape_gb, rmse_gb, r2_gb]\n",
    "\n",
    "print(results.to_string(index=False))"
   ]
  },
  {
   "cell_type": "markdown",
   "metadata": {},
   "source": [
    "#### With GridSearchCV"
   ]
  },
  {
   "cell_type": "code",
   "execution_count": null,
   "metadata": {},
   "outputs": [],
   "source": [
    "from sklearn.tree import DecisionTreeRegressor\n",
    "from sklearn.ensemble import RandomForestRegressor, GradientBoostingRegressor\n",
    "\n",
    "from sklearn.model_selection import GridSearchCV\n",
    "\n",
    "grid_dt = {\n",
    "    'max_depth': range(1, X_train.shape[1] + 1)\n",
    "}\n",
    "\n",
    "grid_rf = {\n",
    "    'max_depth': range(1, X_train.shape[1] + 1)\n",
    "}\n",
    "\n",
    "grid_gb = {\n",
    "    'max_depth': range(1, X_train.shape[1] + 1)\n",
    "}\n",
    "\n",
    "models_name = [\"Decision Tree\", \"Random Forest\", \"Gradient Boosting\"]\n",
    "grids = [grid_dt, grid_rf, grid_gb]\n",
    "\n",
    "models = [\n",
    "    GridSearchCV(DecisionTreeRegressor(random_state=42), grid_dt, cv=10, n_jobs=-1, scoring='r2'),\n",
    "    GridSearchCV(RandomForestRegressor(random_state=42), grid_rf, cv=10, n_jobs=-1, scoring='r2'),\n",
    "    GridSearchCV(GradientBoostingRegressor(random_state=42), grid_gb, cv=10, n_jobs=-1, scoring='r2')\n",
    "]"
   ]
  },
  {
   "cell_type": "code",
   "execution_count": null,
   "metadata": {},
   "outputs": [],
   "source": [
    "from sklearn.metrics import r2_score, mean_squared_error, mean_absolute_percentage_error\n",
    "\n",
    "import warnings\n",
    "warnings.filterwarnings('ignore')\n",
    "\n",
    "results = pd.DataFrame(columns=[\"Model\", \"MAPE\", \"RMSE\", \"r2\"])\n",
    "\n",
    "for i, (model_name, model, grid) in enumerate(zip(models_name, models, grids)):\n",
    "    model.fit(X_train, y_train)\n",
    "\n",
    "    y_pred = model.predict(X_test)\n",
    "    mape = round(mean_absolute_percentage_error(y_test, y_pred), 3)\n",
    "    rmse = round(np.sqrt(mean_squared_error(y_test, y_pred)), 3)\n",
    "    r2 = round(r2_score(y_test, y_pred), 3)\n",
    "\n",
    "    results.loc[i] = [model_name, mape, rmse, r2]"
   ]
  },
  {
   "cell_type": "code",
   "execution_count": null,
   "metadata": {},
   "outputs": [],
   "source": [
    "for model_name, model in zip(models_name, models):\n",
    "    print(f\"Best parameters for {model_name}: {model.best_params_}\")"
   ]
  },
  {
   "cell_type": "code",
   "execution_count": null,
   "metadata": {},
   "outputs": [],
   "source": [
    "print(results.to_string(index=False))"
   ]
  }
 ],
 "metadata": {
  "kernelspec": {
   "display_name": "ml_venv",
   "language": "python",
   "name": "python3"
  },
  "language_info": {
   "codemirror_mode": {
    "name": "ipython",
    "version": 3
   },
   "file_extension": ".py",
   "mimetype": "text/x-python",
   "name": "python",
   "nbconvert_exporter": "python",
   "pygments_lexer": "ipython3",
   "version": "3.9.18"
  }
 },
 "nbformat": 4,
 "nbformat_minor": 2
}
