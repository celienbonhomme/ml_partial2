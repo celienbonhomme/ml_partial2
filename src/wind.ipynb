{
 "cells": [
  {
   "cell_type": "markdown",
   "metadata": {},
   "source": [
    "# Wind speed"
   ]
  },
  {
   "cell_type": "markdown",
   "metadata": {},
   "source": [
    "## Load data"
   ]
  },
  {
   "cell_type": "code",
   "execution_count": 117,
   "metadata": {},
   "outputs": [],
   "source": [
    "import pandas as pd\n",
    "df_wind = pd.read_csv('../data/data_wind.csv')"
   ]
  },
  {
   "cell_type": "code",
   "execution_count": 118,
   "metadata": {},
   "outputs": [
    {
     "data": {
      "text/html": [
       "<div>\n",
       "<style scoped>\n",
       "    .dataframe tbody tr th:only-of-type {\n",
       "        vertical-align: middle;\n",
       "    }\n",
       "\n",
       "    .dataframe tbody tr th {\n",
       "        vertical-align: top;\n",
       "    }\n",
       "\n",
       "    .dataframe thead th {\n",
       "        text-align: right;\n",
       "    }\n",
       "</style>\n",
       "<table border=\"1\" class=\"dataframe\">\n",
       "  <thead>\n",
       "    <tr style=\"text-align: right;\">\n",
       "      <th></th>\n",
       "      <th>HORA (UTC)</th>\n",
       "      <th>VENTO, DIREï¿½ï¿½O HORARIA (gr) (ï¿½ (gr))</th>\n",
       "      <th>VENTO, VELOCIDADE HORARIA (m/s)</th>\n",
       "      <th>UMIDADE REL. MAX. NA HORA ANT. (AUT) (%)</th>\n",
       "      <th>UMIDADE REL. MIN. NA HORA ANT. (AUT) (%)</th>\n",
       "      <th>TEMPERATURA Mï¿½XIMA NA HORA ANT. (AUT) (ï¿½C)</th>\n",
       "      <th>TEMPERATURA Mï¿½NIMA NA HORA ANT. (AUT) (ï¿½C)</th>\n",
       "      <th>UMIDADE RELATIVA DO AR, HORARIA (%)</th>\n",
       "      <th>PRESSAO ATMOSFERICA AO NIVEL DA ESTACAO, HORARIA (mB)</th>\n",
       "      <th>PRECIPITAï¿½ï¿½O TOTAL, HORï¿½RIO (mm)</th>\n",
       "      <th>VENTO, RAJADA MAXIMA (m/s)</th>\n",
       "      <th>PRESSï¿½O ATMOSFERICA MAX.NA HORA ANT. (AUT) (mB)</th>\n",
       "      <th>PRESSï¿½O ATMOSFERICA MIN. NA HORA ANT. (AUT) (mB)</th>\n",
       "    </tr>\n",
       "  </thead>\n",
       "  <tbody>\n",
       "    <tr>\n",
       "      <th>0</th>\n",
       "      <td>12:00</td>\n",
       "      <td>0.809017</td>\n",
       "      <td>1.8</td>\n",
       "      <td>69.0</td>\n",
       "      <td>60.0</td>\n",
       "      <td>22.6</td>\n",
       "      <td>20.7</td>\n",
       "      <td>61.0</td>\n",
       "      <td>888.2</td>\n",
       "      <td>0.0</td>\n",
       "      <td>3.8</td>\n",
       "      <td>888.2</td>\n",
       "      <td>887.7</td>\n",
       "    </tr>\n",
       "    <tr>\n",
       "      <th>1</th>\n",
       "      <td>13:00</td>\n",
       "      <td>0.965926</td>\n",
       "      <td>2.7</td>\n",
       "      <td>62.0</td>\n",
       "      <td>55.0</td>\n",
       "      <td>24.2</td>\n",
       "      <td>22.5</td>\n",
       "      <td>55.0</td>\n",
       "      <td>888.4</td>\n",
       "      <td>0.0</td>\n",
       "      <td>4.7</td>\n",
       "      <td>888.4</td>\n",
       "      <td>888.2</td>\n",
       "    </tr>\n",
       "    <tr>\n",
       "      <th>2</th>\n",
       "      <td>14:00</td>\n",
       "      <td>0.891007</td>\n",
       "      <td>2.0</td>\n",
       "      <td>56.0</td>\n",
       "      <td>50.0</td>\n",
       "      <td>25.5</td>\n",
       "      <td>24.3</td>\n",
       "      <td>51.0</td>\n",
       "      <td>888.1</td>\n",
       "      <td>0.0</td>\n",
       "      <td>4.9</td>\n",
       "      <td>888.4</td>\n",
       "      <td>888.1</td>\n",
       "    </tr>\n",
       "    <tr>\n",
       "      <th>3</th>\n",
       "      <td>15:00</td>\n",
       "      <td>0.848048</td>\n",
       "      <td>2.5</td>\n",
       "      <td>52.0</td>\n",
       "      <td>44.0</td>\n",
       "      <td>27.4</td>\n",
       "      <td>25.0</td>\n",
       "      <td>44.0</td>\n",
       "      <td>887.4</td>\n",
       "      <td>0.0</td>\n",
       "      <td>5.8</td>\n",
       "      <td>888.1</td>\n",
       "      <td>887.4</td>\n",
       "    </tr>\n",
       "    <tr>\n",
       "      <th>4</th>\n",
       "      <td>16:00</td>\n",
       "      <td>0.224951</td>\n",
       "      <td>2.4</td>\n",
       "      <td>50.0</td>\n",
       "      <td>43.0</td>\n",
       "      <td>27.1</td>\n",
       "      <td>25.5</td>\n",
       "      <td>46.0</td>\n",
       "      <td>886.5</td>\n",
       "      <td>0.0</td>\n",
       "      <td>5.8</td>\n",
       "      <td>887.4</td>\n",
       "      <td>886.5</td>\n",
       "    </tr>\n",
       "  </tbody>\n",
       "</table>\n",
       "</div>"
      ],
      "text/plain": [
       "  HORA (UTC)  VENTO, DIREï¿½ï¿½O HORARIA (gr) (ï¿½ (gr))  \\\n",
       "0      12:00                                    0.809017   \n",
       "1      13:00                                    0.965926   \n",
       "2      14:00                                    0.891007   \n",
       "3      15:00                                    0.848048   \n",
       "4      16:00                                    0.224951   \n",
       "\n",
       "   VENTO, VELOCIDADE HORARIA (m/s)  UMIDADE REL. MAX. NA HORA ANT. (AUT) (%)  \\\n",
       "0                              1.8                                      69.0   \n",
       "1                              2.7                                      62.0   \n",
       "2                              2.0                                      56.0   \n",
       "3                              2.5                                      52.0   \n",
       "4                              2.4                                      50.0   \n",
       "\n",
       "   UMIDADE REL. MIN. NA HORA ANT. (AUT) (%)  \\\n",
       "0                                      60.0   \n",
       "1                                      55.0   \n",
       "2                                      50.0   \n",
       "3                                      44.0   \n",
       "4                                      43.0   \n",
       "\n",
       "   TEMPERATURA Mï¿½XIMA NA HORA ANT. (AUT) (ï¿½C)  \\\n",
       "0                                            22.6   \n",
       "1                                            24.2   \n",
       "2                                            25.5   \n",
       "3                                            27.4   \n",
       "4                                            27.1   \n",
       "\n",
       "   TEMPERATURA Mï¿½NIMA NA HORA ANT. (AUT) (ï¿½C)  \\\n",
       "0                                            20.7   \n",
       "1                                            22.5   \n",
       "2                                            24.3   \n",
       "3                                            25.0   \n",
       "4                                            25.5   \n",
       "\n",
       "   UMIDADE RELATIVA DO AR, HORARIA (%)  \\\n",
       "0                                 61.0   \n",
       "1                                 55.0   \n",
       "2                                 51.0   \n",
       "3                                 44.0   \n",
       "4                                 46.0   \n",
       "\n",
       "   PRESSAO ATMOSFERICA AO NIVEL DA ESTACAO, HORARIA (mB)  \\\n",
       "0                                              888.2       \n",
       "1                                              888.4       \n",
       "2                                              888.1       \n",
       "3                                              887.4       \n",
       "4                                              886.5       \n",
       "\n",
       "   PRECIPITAï¿½ï¿½O TOTAL, HORï¿½RIO (mm)  VENTO, RAJADA MAXIMA (m/s)  \\\n",
       "0                                     0.0                         3.8   \n",
       "1                                     0.0                         4.7   \n",
       "2                                     0.0                         4.9   \n",
       "3                                     0.0                         5.8   \n",
       "4                                     0.0                         5.8   \n",
       "\n",
       "   PRESSï¿½O ATMOSFERICA MAX.NA HORA ANT. (AUT) (mB)  \\\n",
       "0                                              888.2   \n",
       "1                                              888.4   \n",
       "2                                              888.4   \n",
       "3                                              888.1   \n",
       "4                                              887.4   \n",
       "\n",
       "   PRESSï¿½O ATMOSFERICA MIN. NA HORA ANT. (AUT) (mB)  \n",
       "0                                              887.7   \n",
       "1                                              888.2   \n",
       "2                                              888.1   \n",
       "3                                              887.4   \n",
       "4                                              886.5   "
      ]
     },
     "execution_count": 118,
     "metadata": {},
     "output_type": "execute_result"
    }
   ],
   "source": [
    "df_wind.head()"
   ]
  },
  {
   "cell_type": "code",
   "execution_count": 119,
   "metadata": {},
   "outputs": [
    {
     "name": "stdout",
     "output_type": "stream",
     "text": [
      "<class 'pandas.core.frame.DataFrame'>\n",
      "RangeIndex: 87693 entries, 0 to 87692\n",
      "Data columns (total 13 columns):\n",
      " #   Column                                                 Non-Null Count  Dtype  \n",
      "---  ------                                                 --------------  -----  \n",
      " 0   HORA (UTC)                                             87693 non-null  object \n",
      " 1   VENTO, DIREï¿½ï¿½O HORARIA (gr) (ï¿½ (gr))             87693 non-null  float64\n",
      " 2   VENTO, VELOCIDADE HORARIA (m/s)                        87693 non-null  float64\n",
      " 3   UMIDADE REL. MAX. NA HORA ANT. (AUT) (%)               87693 non-null  float64\n",
      " 4   UMIDADE REL. MIN. NA HORA ANT. (AUT) (%)               87693 non-null  float64\n",
      " 5   TEMPERATURA Mï¿½XIMA NA HORA ANT. (AUT) (ï¿½C)         87693 non-null  float64\n",
      " 6   TEMPERATURA Mï¿½NIMA NA HORA ANT. (AUT) (ï¿½C)         87693 non-null  float64\n",
      " 7   UMIDADE RELATIVA DO AR, HORARIA (%)                    87693 non-null  float64\n",
      " 8   PRESSAO ATMOSFERICA AO NIVEL DA ESTACAO, HORARIA (mB)  87693 non-null  float64\n",
      " 9   PRECIPITAï¿½ï¿½O TOTAL, HORï¿½RIO (mm)                 87693 non-null  float64\n",
      " 10  VENTO, RAJADA MAXIMA (m/s)                             87693 non-null  float64\n",
      " 11  PRESSï¿½O ATMOSFERICA MAX.NA HORA ANT. (AUT) (mB)      87693 non-null  float64\n",
      " 12  PRESSï¿½O ATMOSFERICA MIN. NA HORA ANT. (AUT) (mB)     87693 non-null  float64\n",
      "dtypes: float64(12), object(1)\n",
      "memory usage: 8.7+ MB\n"
     ]
    }
   ],
   "source": [
    "df_wind.info()"
   ]
  },
  {
   "cell_type": "markdown",
   "metadata": {},
   "source": [
    "We can see if we have missing values."
   ]
  },
  {
   "cell_type": "code",
   "execution_count": 120,
   "metadata": {},
   "outputs": [
    {
     "data": {
      "text/plain": [
       "0"
      ]
     },
     "execution_count": 120,
     "metadata": {},
     "output_type": "execute_result"
    }
   ],
   "source": [
    "df_wind.isnull().sum().sum()"
   ]
  },
  {
   "cell_type": "markdown",
   "metadata": {},
   "source": [
    "We don't have missing values so we don't need to impute."
   ]
  },
  {
   "cell_type": "code",
   "execution_count": 121,
   "metadata": {},
   "outputs": [
    {
     "data": {
      "text/plain": [
       "Index(['HORA (UTC)', 'VENTO, DIREï¿½ï¿½O HORARIA (gr) (ï¿½ (gr))',\n",
       "       'VENTO, VELOCIDADE HORARIA (m/s)',\n",
       "       'UMIDADE REL. MAX. NA HORA ANT. (AUT) (%)',\n",
       "       'UMIDADE REL. MIN. NA HORA ANT. (AUT) (%)',\n",
       "       'TEMPERATURA Mï¿½XIMA NA HORA ANT. (AUT) (ï¿½C)',\n",
       "       'TEMPERATURA Mï¿½NIMA NA HORA ANT. (AUT) (ï¿½C)',\n",
       "       'UMIDADE RELATIVA DO AR, HORARIA (%)',\n",
       "       'PRESSAO ATMOSFERICA AO NIVEL DA ESTACAO, HORARIA (mB)',\n",
       "       'PRECIPITAï¿½ï¿½O TOTAL, HORï¿½RIO (mm)', 'VENTO, RAJADA MAXIMA (m/s)',\n",
       "       'PRESSï¿½O ATMOSFERICA MAX.NA HORA ANT. (AUT) (mB)',\n",
       "       'PRESSï¿½O ATMOSFERICA MIN. NA HORA ANT. (AUT) (mB)'],\n",
       "      dtype='object')"
      ]
     },
     "execution_count": 121,
     "metadata": {},
     "output_type": "execute_result"
    }
   ],
   "source": [
    "df_wind.columns"
   ]
  },
  {
   "cell_type": "code",
   "execution_count": 122,
   "metadata": {},
   "outputs": [],
   "source": [
    "df_wind_preprocessed = df_wind.copy()"
   ]
  },
  {
   "cell_type": "markdown",
   "metadata": {},
   "source": [
    "We don't have significative column names so we can rename them."
   ]
  },
  {
   "cell_type": "code",
   "execution_count": 123,
   "metadata": {},
   "outputs": [
    {
     "data": {
      "text/plain": [
       "Index(['Hora', 'Dirección del viento horaria (gr)',\n",
       "       'Velocidad horario del viento (m/s)',\n",
       "       'Humedad rel. máx. hora anterior (AUT) (%)',\n",
       "       'Humedad rel. mín. hora anterior (AUT) (%)',\n",
       "       'Temperatura máx. hora anterior (AUT) (℃)',\n",
       "       'Temperatura mín. hora anterior (AUT) (℃)',\n",
       "       'Humedad relativa horaria (%)',\n",
       "       'Presión atmosférica a nivel de estación, horaria (mB)',\n",
       "       'Precipitación total por hora (mm)', 'Máxima ráfaga de viento (m/s)',\n",
       "       'Presión atmosférica máx. hora anterior (AUT) (mB)',\n",
       "       'Presión atmosférica mín. hora anterior (AUT) (mB)'],\n",
       "      dtype='object')"
      ]
     },
     "execution_count": 123,
     "metadata": {},
     "output_type": "execute_result"
    }
   ],
   "source": [
    "new_columns = [\n",
    "    'Hora',\n",
    "    'Dirección del viento horaria (gr)',\n",
    "    'Velocidad horario del viento (m/s)',\n",
    "    'Humedad rel. máx. hora anterior (AUT) (%)',\n",
    "    'Humedad rel. mín. hora anterior (AUT) (%)',\n",
    "    'Temperatura máx. hora anterior (AUT) (℃)',\n",
    "    'Temperatura mín. hora anterior (AUT) (℃)',\n",
    "    'Humedad relativa horaria (%)',\n",
    "    'Presión atmosférica a nivel de estación, horaria (mB)',\n",
    "    'Precipitación total por hora (mm)',\n",
    "    'Máxima ráfaga de viento (m/s)',\n",
    "    'Presión atmosférica máx. hora anterior (AUT) (mB)',\n",
    "    'Presión atmosférica mín. hora anterior (AUT) (mB)'\n",
    "]\n",
    "\n",
    "df_wind_preprocessed.rename(columns=dict(zip(df_wind.columns, new_columns)), inplace=True)\n",
    "df_wind_preprocessed.columns"
   ]
  },
  {
   "cell_type": "code",
   "execution_count": 124,
   "metadata": {},
   "outputs": [
    {
     "name": "stdout",
     "output_type": "stream",
     "text": [
      "12:00\n"
     ]
    },
    {
     "data": {
      "text/plain": [
       "str"
      ]
     },
     "execution_count": 124,
     "metadata": {},
     "output_type": "execute_result"
    }
   ],
   "source": [
    "print(df_wind_preprocessed['Hora'][0])\n",
    "type(df_wind_preprocessed['Hora'][0])"
   ]
  },
  {
   "cell_type": "markdown",
   "metadata": {},
   "source": [
    "Some values are missing, sometimes we go from the hour 17 to 19 for exemple. We can add this missing hours to the dataset."
   ]
  },
  {
   "cell_type": "code",
   "execution_count": 125,
   "metadata": {},
   "outputs": [
    {
     "name": "stdout",
     "output_type": "stream",
     "text": [
      "Added 866 rows\n",
      "Added 332 rows\n",
      "Added 241 rows\n",
      "Added 182 rows\n",
      "Added 141 rows\n",
      "Added 122 rows\n",
      "Added 106 rows\n",
      "Added 92 rows\n",
      "Added 79 rows\n",
      "Added 67 rows\n",
      "Added 57 rows\n",
      "Added 52 rows\n",
      "Added 44 rows\n",
      "Added 41 rows\n",
      "Added 37 rows\n",
      "Added 31 rows\n",
      "Added 27 rows\n",
      "Added 23 rows\n",
      "Added 16 rows\n",
      "Added 11 rows\n",
      "Added 8 rows\n",
      "Added 5 rows\n",
      "Added 3 rows\n",
      "Added 2583 en total\n"
     ]
    }
   ],
   "source": [
    "total_added = 0\n",
    "\n",
    "for _ in range(23):\n",
    "    hours = df_wind_preprocessed['Hora']\n",
    "    idx = 0\n",
    "    nb_added = 0\n",
    "\n",
    "    while idx < len(hours) - 1:\n",
    "        cur_hour = int(hours[idx].split(':')[0])\n",
    "        next_hour = int(hours[idx + 1].split(':')[0])\n",
    "        if next_hour != (cur_hour + 1) % 24:\n",
    "            # print(cur_hour, next_hour, f\"=> add {str((cur_hour + 1) % 24)+':00'}\")\n",
    "            if (cur_hour + 1) % 24 < 10:\n",
    "                new_str = \"0\"+str((cur_hour + 1) % 24)+\":00\"\n",
    "            else:\n",
    "                new_str = str((cur_hour + 1) % 24)+\":00\"\n",
    "            new_row = pd.DataFrame({'Hora': [new_str]})\n",
    "            df_wind_preprocessed = pd.concat([df_wind_preprocessed.iloc[:idx + nb_added + 1], new_row, df_wind_preprocessed.iloc[idx + nb_added + 1:]], ignore_index=True)\n",
    "            nb_added += 1\n",
    "        idx += 1\n",
    "    print(f\"Added {nb_added} rows\")\n",
    "    total_added += nb_added\n",
    "\n",
    "print(f\"Added {total_added} en total\")"
   ]
  },
  {
   "cell_type": "markdown",
   "metadata": {},
   "source": [
    "The hour is given as a string. Considered we have data for almost ten years, we can change the format of the hour, starting with a given year, for instance the year 2000."
   ]
  },
  {
   "cell_type": "code",
   "execution_count": 126,
   "metadata": {},
   "outputs": [],
   "source": [
    "import datetime as dt\n",
    "\n",
    "start_date = dt.datetime(2000, 1, 1, int(df_wind_preprocessed['Hora'][0][:2]))\n",
    "\n",
    "df_wind_preprocessed['Hora'] = [start_date + dt.timedelta(hours=i) for i in range(len(df_wind_preprocessed['Hora']))]"
   ]
  },
  {
   "cell_type": "markdown",
   "metadata": {},
   "source": [
    "The data are not in the units of the international system. We can change that."
   ]
  },
  {
   "cell_type": "code",
   "execution_count": 127,
   "metadata": {},
   "outputs": [
    {
     "data": {
      "text/plain": [
       "Index(['Hora', 'Dirección del viento horaria (gr)',\n",
       "       'Velocidad horario del viento (m/s)', 'Máxima ráfaga de viento (m/s)',\n",
       "       'Humedad rel. máx. hora anterior (AUT)',\n",
       "       'Humedad rel. mín. hora anterior (AUT)',\n",
       "       'Temperatura máx. hora anterior (AUT) (K)',\n",
       "       'Temperatura mín. hora anterior (AUT) (K)', 'Humedad relativa horaria',\n",
       "       'Presión atmosférica a nivel de estación, horaria (Pa)',\n",
       "       'Precipitación total por hora (m)',\n",
       "       'Presión atmosférica máx. hora anterior (AUT) (Pa)',\n",
       "       'Presión atmosférica mín. hora anterior (AUT) (Pa)'],\n",
       "      dtype='object')"
      ]
     },
     "execution_count": 127,
     "metadata": {},
     "output_type": "execute_result"
    }
   ],
   "source": [
    "df_wind_preprocessed['Humedad rel. máx. hora anterior (AUT)'] = df_wind_preprocessed['Humedad rel. máx. hora anterior (AUT) (%)'].apply(lambda x: x/100)\n",
    "df_wind_preprocessed.drop(columns=['Humedad rel. máx. hora anterior (AUT) (%)'], inplace=True)\n",
    "\n",
    "df_wind_preprocessed['Humedad rel. mín. hora anterior (AUT)'] = df_wind_preprocessed['Humedad rel. mín. hora anterior (AUT) (%)'].apply(lambda x: x/100)\n",
    "df_wind_preprocessed.drop(columns=['Humedad rel. mín. hora anterior (AUT) (%)'], inplace=True)\n",
    "\n",
    "df_wind_preprocessed['Temperatura máx. hora anterior (AUT) (K)'] = df_wind_preprocessed['Temperatura máx. hora anterior (AUT) (℃)'].apply(lambda x: x+273.15)\n",
    "df_wind_preprocessed.drop(columns=['Temperatura máx. hora anterior (AUT) (℃)'], inplace=True)\n",
    "\n",
    "df_wind_preprocessed['Temperatura mín. hora anterior (AUT) (K)'] = df_wind_preprocessed['Temperatura mín. hora anterior (AUT) (℃)'].apply(lambda x: x+273.15)\n",
    "df_wind_preprocessed.drop(columns=['Temperatura mín. hora anterior (AUT) (℃)'], inplace=True)\n",
    "\n",
    "df_wind_preprocessed['Humedad relativa horaria'] = df_wind_preprocessed['Humedad relativa horaria (%)'].apply(lambda x: x/100)\n",
    "df_wind_preprocessed.drop(columns=['Humedad relativa horaria (%)'], inplace=True)\n",
    "\n",
    "df_wind_preprocessed['Presión atmosférica a nivel de estación, horaria (Pa)'] = df_wind_preprocessed['Presión atmosférica a nivel de estación, horaria (mB)'].apply(lambda x: x*100)\n",
    "df_wind_preprocessed.drop(columns=['Presión atmosférica a nivel de estación, horaria (mB)'], inplace=True)\n",
    "\n",
    "df_wind_preprocessed['Precipitación total por hora (m)'] = df_wind_preprocessed['Precipitación total por hora (mm)'].apply(lambda x: x/1000)\n",
    "df_wind_preprocessed.drop(columns=['Precipitación total por hora (mm)'], inplace=True)\n",
    "\n",
    "df_wind_preprocessed['Presión atmosférica máx. hora anterior (AUT) (Pa)'] = df_wind_preprocessed['Presión atmosférica máx. hora anterior (AUT) (mB)'].apply(lambda x: x*100)\n",
    "df_wind_preprocessed.drop(columns=['Presión atmosférica máx. hora anterior (AUT) (mB)'], inplace=True)\n",
    "\n",
    "df_wind_preprocessed['Presión atmosférica mín. hora anterior (AUT) (Pa)'] = df_wind_preprocessed['Presión atmosférica mín. hora anterior (AUT) (mB)'].apply(lambda x: x*100)\n",
    "df_wind_preprocessed.drop(columns=['Presión atmosférica mín. hora anterior (AUT) (mB)'], inplace=True)\n",
    "\n",
    "df_wind_preprocessed.columns"
   ]
  },
  {
   "cell_type": "code",
   "execution_count": 128,
   "metadata": {},
   "outputs": [
    {
     "data": {
      "text/html": [
       "<div>\n",
       "<style scoped>\n",
       "    .dataframe tbody tr th:only-of-type {\n",
       "        vertical-align: middle;\n",
       "    }\n",
       "\n",
       "    .dataframe tbody tr th {\n",
       "        vertical-align: top;\n",
       "    }\n",
       "\n",
       "    .dataframe thead th {\n",
       "        text-align: right;\n",
       "    }\n",
       "</style>\n",
       "<table border=\"1\" class=\"dataframe\">\n",
       "  <thead>\n",
       "    <tr style=\"text-align: right;\">\n",
       "      <th></th>\n",
       "      <th>Hora</th>\n",
       "      <th>Dirección del viento horaria (gr)</th>\n",
       "      <th>Velocidad horario del viento (m/s)</th>\n",
       "      <th>Máxima ráfaga de viento (m/s)</th>\n",
       "      <th>Humedad rel. máx. hora anterior (AUT)</th>\n",
       "      <th>Humedad rel. mín. hora anterior (AUT)</th>\n",
       "      <th>Temperatura máx. hora anterior (AUT) (K)</th>\n",
       "      <th>Temperatura mín. hora anterior (AUT) (K)</th>\n",
       "      <th>Humedad relativa horaria</th>\n",
       "      <th>Presión atmosférica a nivel de estación, horaria (Pa)</th>\n",
       "      <th>Precipitación total por hora (m)</th>\n",
       "      <th>Presión atmosférica máx. hora anterior (AUT) (Pa)</th>\n",
       "      <th>Presión atmosférica mín. hora anterior (AUT) (Pa)</th>\n",
       "    </tr>\n",
       "  </thead>\n",
       "  <tbody>\n",
       "    <tr>\n",
       "      <th>0</th>\n",
       "      <td>2000-01-01 12:00:00</td>\n",
       "      <td>0.809017</td>\n",
       "      <td>1.8</td>\n",
       "      <td>3.8</td>\n",
       "      <td>0.69</td>\n",
       "      <td>0.60</td>\n",
       "      <td>295.75</td>\n",
       "      <td>293.85</td>\n",
       "      <td>0.61</td>\n",
       "      <td>88820.0</td>\n",
       "      <td>0.0</td>\n",
       "      <td>88820.0</td>\n",
       "      <td>88770.0</td>\n",
       "    </tr>\n",
       "    <tr>\n",
       "      <th>1</th>\n",
       "      <td>2000-01-01 13:00:00</td>\n",
       "      <td>0.965926</td>\n",
       "      <td>2.7</td>\n",
       "      <td>4.7</td>\n",
       "      <td>0.62</td>\n",
       "      <td>0.55</td>\n",
       "      <td>297.35</td>\n",
       "      <td>295.65</td>\n",
       "      <td>0.55</td>\n",
       "      <td>88840.0</td>\n",
       "      <td>0.0</td>\n",
       "      <td>88840.0</td>\n",
       "      <td>88820.0</td>\n",
       "    </tr>\n",
       "    <tr>\n",
       "      <th>2</th>\n",
       "      <td>2000-01-01 14:00:00</td>\n",
       "      <td>0.891007</td>\n",
       "      <td>2.0</td>\n",
       "      <td>4.9</td>\n",
       "      <td>0.56</td>\n",
       "      <td>0.50</td>\n",
       "      <td>298.65</td>\n",
       "      <td>297.45</td>\n",
       "      <td>0.51</td>\n",
       "      <td>88810.0</td>\n",
       "      <td>0.0</td>\n",
       "      <td>88840.0</td>\n",
       "      <td>88810.0</td>\n",
       "    </tr>\n",
       "    <tr>\n",
       "      <th>3</th>\n",
       "      <td>2000-01-01 15:00:00</td>\n",
       "      <td>0.848048</td>\n",
       "      <td>2.5</td>\n",
       "      <td>5.8</td>\n",
       "      <td>0.52</td>\n",
       "      <td>0.44</td>\n",
       "      <td>300.55</td>\n",
       "      <td>298.15</td>\n",
       "      <td>0.44</td>\n",
       "      <td>88740.0</td>\n",
       "      <td>0.0</td>\n",
       "      <td>88810.0</td>\n",
       "      <td>88740.0</td>\n",
       "    </tr>\n",
       "    <tr>\n",
       "      <th>4</th>\n",
       "      <td>2000-01-01 16:00:00</td>\n",
       "      <td>0.224951</td>\n",
       "      <td>2.4</td>\n",
       "      <td>5.8</td>\n",
       "      <td>0.50</td>\n",
       "      <td>0.43</td>\n",
       "      <td>300.25</td>\n",
       "      <td>298.65</td>\n",
       "      <td>0.46</td>\n",
       "      <td>88650.0</td>\n",
       "      <td>0.0</td>\n",
       "      <td>88740.0</td>\n",
       "      <td>88650.0</td>\n",
       "    </tr>\n",
       "  </tbody>\n",
       "</table>\n",
       "</div>"
      ],
      "text/plain": [
       "                 Hora  Dirección del viento horaria (gr)  \\\n",
       "0 2000-01-01 12:00:00                           0.809017   \n",
       "1 2000-01-01 13:00:00                           0.965926   \n",
       "2 2000-01-01 14:00:00                           0.891007   \n",
       "3 2000-01-01 15:00:00                           0.848048   \n",
       "4 2000-01-01 16:00:00                           0.224951   \n",
       "\n",
       "   Velocidad horario del viento (m/s)  Máxima ráfaga de viento (m/s)  \\\n",
       "0                                 1.8                            3.8   \n",
       "1                                 2.7                            4.7   \n",
       "2                                 2.0                            4.9   \n",
       "3                                 2.5                            5.8   \n",
       "4                                 2.4                            5.8   \n",
       "\n",
       "   Humedad rel. máx. hora anterior (AUT)  \\\n",
       "0                                   0.69   \n",
       "1                                   0.62   \n",
       "2                                   0.56   \n",
       "3                                   0.52   \n",
       "4                                   0.50   \n",
       "\n",
       "   Humedad rel. mín. hora anterior (AUT)  \\\n",
       "0                                   0.60   \n",
       "1                                   0.55   \n",
       "2                                   0.50   \n",
       "3                                   0.44   \n",
       "4                                   0.43   \n",
       "\n",
       "   Temperatura máx. hora anterior (AUT) (K)  \\\n",
       "0                                    295.75   \n",
       "1                                    297.35   \n",
       "2                                    298.65   \n",
       "3                                    300.55   \n",
       "4                                    300.25   \n",
       "\n",
       "   Temperatura mín. hora anterior (AUT) (K)  Humedad relativa horaria  \\\n",
       "0                                    293.85                      0.61   \n",
       "1                                    295.65                      0.55   \n",
       "2                                    297.45                      0.51   \n",
       "3                                    298.15                      0.44   \n",
       "4                                    298.65                      0.46   \n",
       "\n",
       "   Presión atmosférica a nivel de estación, horaria (Pa)  \\\n",
       "0                                            88820.0       \n",
       "1                                            88840.0       \n",
       "2                                            88810.0       \n",
       "3                                            88740.0       \n",
       "4                                            88650.0       \n",
       "\n",
       "   Precipitación total por hora (m)  \\\n",
       "0                               0.0   \n",
       "1                               0.0   \n",
       "2                               0.0   \n",
       "3                               0.0   \n",
       "4                               0.0   \n",
       "\n",
       "   Presión atmosférica máx. hora anterior (AUT) (Pa)  \\\n",
       "0                                            88820.0   \n",
       "1                                            88840.0   \n",
       "2                                            88840.0   \n",
       "3                                            88810.0   \n",
       "4                                            88740.0   \n",
       "\n",
       "   Presión atmosférica mín. hora anterior (AUT) (Pa)  \n",
       "0                                            88770.0  \n",
       "1                                            88820.0  \n",
       "2                                            88810.0  \n",
       "3                                            88740.0  \n",
       "4                                            88650.0  "
      ]
     },
     "execution_count": 128,
     "metadata": {},
     "output_type": "execute_result"
    }
   ],
   "source": [
    "df_wind_preprocessed.head()"
   ]
  },
  {
   "cell_type": "code",
   "execution_count": null,
   "metadata": {},
   "outputs": [],
   "source": [
    "df_wind_preprocessed.to_csv('../data/data_wind_preprocessed.csv', index=False)"
   ]
  },
  {
   "cell_type": "markdown",
   "metadata": {},
   "source": [
    "# EDA"
   ]
  },
  {
   "cell_type": "code",
   "execution_count": null,
   "metadata": {},
   "outputs": [],
   "source": []
  }
 ],
 "metadata": {
  "kernelspec": {
   "display_name": "ml_venv",
   "language": "python",
   "name": "python3"
  },
  "language_info": {
   "codemirror_mode": {
    "name": "ipython",
    "version": 3
   },
   "file_extension": ".py",
   "mimetype": "text/x-python",
   "name": "python",
   "nbconvert_exporter": "python",
   "pygments_lexer": "ipython3",
   "version": "3.9.18"
  }
 },
 "nbformat": 4,
 "nbformat_minor": 2
}
